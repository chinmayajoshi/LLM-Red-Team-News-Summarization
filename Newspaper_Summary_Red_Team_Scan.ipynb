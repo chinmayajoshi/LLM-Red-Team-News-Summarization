{
  "nbformat": 4,
  "nbformat_minor": 0,
  "metadata": {
    "colab": {
      "provenance": [],
      "collapsed_sections": [
        "eiwvKflQaoOM",
        "xHZhTdqAasBj",
        "nFv1-8iUavtp"
      ]
    },
    "kernelspec": {
      "name": "python3",
      "display_name": "Python 3"
    },
    "language_info": {
      "name": "python"
    }
  },
  "cells": [
    {
      "cell_type": "markdown",
      "source": [
        "## Dependencies"
      ],
      "metadata": {
        "id": "eiwvKflQaoOM"
      }
    },
    {
      "cell_type": "code",
      "source": [
        "%pip install \"giskard[llm]\" -q"
      ],
      "metadata": {
        "colab": {
          "base_uri": "https://localhost:8080/"
        },
        "id": "-rA9tpIZZxs6",
        "outputId": "056c9a7e-ede9-4e25-fcbb-7ac7453579d2"
      },
      "execution_count": null,
      "outputs": [
        {
          "output_type": "stream",
          "name": "stdout",
          "text": [
            "\u001b[2K     \u001b[90m━━━━━━━━━━━━━━━━━━━━━━━━━━━━━━━━━━━━━━━━\u001b[0m \u001b[32m60.4/60.4 kB\u001b[0m \u001b[31m3.9 MB/s\u001b[0m eta \u001b[36m0:00:00\u001b[0m\n",
            "\u001b[2K     \u001b[90m━━━━━━━━━━━━━━━━━━━━━━━━━━━━━━━━━━━━━━━━\u001b[0m \u001b[32m981.5/981.5 kB\u001b[0m \u001b[31m25.2 MB/s\u001b[0m eta \u001b[36m0:00:00\u001b[0m\n",
            "\u001b[?25h  Preparing metadata (setup.py) ... \u001b[?25l\u001b[?25hdone\n",
            "  Preparing metadata (setup.py) ... \u001b[?25l\u001b[?25hdone\n",
            "\u001b[2K   \u001b[90m━━━━━━━━━━━━━━━━━━━━━━━━━━━━━━━━━━━━━━━━\u001b[0m \u001b[32m61.1/61.1 kB\u001b[0m \u001b[31m3.6 MB/s\u001b[0m eta \u001b[36m0:00:00\u001b[0m\n",
            "\u001b[2K   \u001b[90m━━━━━━━━━━━━━━━━━━━━━━━━━━━━━━━━━━━━━━━━\u001b[0m \u001b[32m7.0/7.0 MB\u001b[0m \u001b[31m37.5 MB/s\u001b[0m eta \u001b[36m0:00:00\u001b[0m\n",
            "\u001b[2K   \u001b[90m━━━━━━━━━━━━━━━━━━━━━━━━━━━━━━━━━━━━━━━━\u001b[0m \u001b[32m84.0/84.0 kB\u001b[0m \u001b[31m5.4 MB/s\u001b[0m eta \u001b[36m0:00:00\u001b[0m\n",
            "\u001b[2K   \u001b[90m━━━━━━━━━━━━━━━━━━━━━━━━━━━━━━━━━━━━━━━━\u001b[0m \u001b[32m27.0/27.0 MB\u001b[0m \u001b[31m14.5 MB/s\u001b[0m eta \u001b[36m0:00:00\u001b[0m\n",
            "\u001b[2K   \u001b[90m━━━━━━━━━━━━━━━━━━━━━━━━━━━━━━━━━━━━━━━━\u001b[0m \u001b[32m140.8/140.8 kB\u001b[0m \u001b[31m9.3 MB/s\u001b[0m eta \u001b[36m0:00:00\u001b[0m\n",
            "\u001b[2K   \u001b[90m━━━━━━━━━━━━━━━━━━━━━━━━━━━━━━━━━━━━━━━━\u001b[0m \u001b[32m6.3/6.3 MB\u001b[0m \u001b[31m56.9 MB/s\u001b[0m eta \u001b[36m0:00:00\u001b[0m\n",
            "\u001b[2K   \u001b[90m━━━━━━━━━━━━━━━━━━━━━━━━━━━━━━━━━━━━━━━━\u001b[0m \u001b[32m6.0/6.0 MB\u001b[0m \u001b[31m63.2 MB/s\u001b[0m eta \u001b[36m0:00:00\u001b[0m\n",
            "\u001b[2K   \u001b[90m━━━━━━━━━━━━━━━━━━━━━━━━━━━━━━━━━━━━━━━━\u001b[0m \u001b[32m163.5/163.5 kB\u001b[0m \u001b[31m11.8 MB/s\u001b[0m eta \u001b[36m0:00:00\u001b[0m\n",
            "\u001b[2K   \u001b[90m━━━━━━━━━━━━━━━━━━━━━━━━━━━━━━━━━━━━━━━━\u001b[0m \u001b[32m36.4/36.4 MB\u001b[0m \u001b[31m12.0 MB/s\u001b[0m eta \u001b[36m0:00:00\u001b[0m\n",
            "\u001b[2K   \u001b[90m━━━━━━━━━━━━━━━━━━━━━━━━━━━━━━━━━━━━━━━━\u001b[0m \u001b[32m88.8/88.8 kB\u001b[0m \u001b[31m6.5 MB/s\u001b[0m eta \u001b[36m0:00:00\u001b[0m\n",
            "\u001b[2K   \u001b[90m━━━━━━━━━━━━━━━━━━━━━━━━━━━━━━━━━━━━━━━━\u001b[0m \u001b[32m194.8/194.8 kB\u001b[0m \u001b[31m13.9 MB/s\u001b[0m eta \u001b[36m0:00:00\u001b[0m\n",
            "\u001b[2K   \u001b[90m━━━━━━━━━━━━━━━━━━━━━━━━━━━━━━━━━━━━━━━━\u001b[0m \u001b[32m553.7/553.7 kB\u001b[0m \u001b[31m30.4 MB/s\u001b[0m eta \u001b[36m0:00:00\u001b[0m\n",
            "\u001b[2K   \u001b[90m━━━━━━━━━━━━━━━━━━━━━━━━━━━━━━━━━━━━━━━━\u001b[0m \u001b[32m648.7/648.7 kB\u001b[0m \u001b[31m33.6 MB/s\u001b[0m eta \u001b[36m0:00:00\u001b[0m\n",
            "\u001b[2K   \u001b[90m━━━━━━━━━━━━━━━━━━━━━━━━━━━━━━━━━━━━━━━━\u001b[0m \u001b[32m484.9/484.9 kB\u001b[0m \u001b[31m28.4 MB/s\u001b[0m eta \u001b[36m0:00:00\u001b[0m\n",
            "\u001b[2K   \u001b[90m━━━━━━━━━━━━━━━━━━━━━━━━━━━━━━━━━━━━━━━━\u001b[0m \u001b[32m116.3/116.3 kB\u001b[0m \u001b[31m8.4 MB/s\u001b[0m eta \u001b[36m0:00:00\u001b[0m\n",
            "\u001b[2K   \u001b[90m━━━━━━━━━━━━━━━━━━━━━━━━━━━━━━━━━━━━━━━━\u001b[0m \u001b[32m143.5/143.5 kB\u001b[0m \u001b[31m10.6 MB/s\u001b[0m eta \u001b[36m0:00:00\u001b[0m\n",
            "\u001b[2K   \u001b[90m━━━━━━━━━━━━━━━━━━━━━━━━━━━━━━━━━━━━━━━━\u001b[0m \u001b[32m56.9/56.9 kB\u001b[0m \u001b[31m4.0 MB/s\u001b[0m eta \u001b[36m0:00:00\u001b[0m\n",
            "\u001b[2K   \u001b[90m━━━━━━━━━━━━━━━━━━━━━━━━━━━━━━━━━━━━━━━━\u001b[0m \u001b[32m1.2/1.2 MB\u001b[0m \u001b[31m44.2 MB/s\u001b[0m eta \u001b[36m0:00:00\u001b[0m\n",
            "\u001b[2K   \u001b[90m━━━━━━━━━━━━━━━━━━━━━━━━━━━━━━━━━━━━━━━━\u001b[0m \u001b[32m363.4/363.4 MB\u001b[0m \u001b[31m2.3 MB/s\u001b[0m eta \u001b[36m0:00:00\u001b[0m\n",
            "\u001b[2K   \u001b[90m━━━━━━━━━━━━━━━━━━━━━━━━━━━━━━━━━━━━━━━━\u001b[0m \u001b[32m13.8/13.8 MB\u001b[0m \u001b[31m61.8 MB/s\u001b[0m eta \u001b[36m0:00:00\u001b[0m\n",
            "\u001b[2K   \u001b[90m━━━━━━━━━━━━━━━━━━━━━━━━━━━━━━━━━━━━━━━━\u001b[0m \u001b[32m24.6/24.6 MB\u001b[0m \u001b[31m49.2 MB/s\u001b[0m eta \u001b[36m0:00:00\u001b[0m\n",
            "\u001b[2K   \u001b[90m━━━━━━━━━━━━━━━━━━━━━━━━━━━━━━━━━━━━━━━━\u001b[0m \u001b[32m883.7/883.7 kB\u001b[0m \u001b[31m42.4 MB/s\u001b[0m eta \u001b[36m0:00:00\u001b[0m\n",
            "\u001b[2K   \u001b[90m━━━━━━━━━━━━━━━━━━━━━━━━━━━━━━━━━━━━━━━━\u001b[0m \u001b[32m664.8/664.8 MB\u001b[0m \u001b[31m2.5 MB/s\u001b[0m eta \u001b[36m0:00:00\u001b[0m\n",
            "\u001b[2K   \u001b[90m━━━━━━━━━━━━━━━━━━━━━━━━━━━━━━━━━━━━━━━━\u001b[0m \u001b[32m211.5/211.5 MB\u001b[0m \u001b[31m6.0 MB/s\u001b[0m eta \u001b[36m0:00:00\u001b[0m\n",
            "\u001b[2K   \u001b[90m━━━━━━━━━━━━━━━━━━━━━━━━━━━━━━━━━━━━━━━━\u001b[0m \u001b[32m56.3/56.3 MB\u001b[0m \u001b[31m12.6 MB/s\u001b[0m eta \u001b[36m0:00:00\u001b[0m\n",
            "\u001b[2K   \u001b[90m━━━━━━━━━━━━━━━━━━━━━━━━━━━━━━━━━━━━━━━━\u001b[0m \u001b[32m127.9/127.9 MB\u001b[0m \u001b[31m7.5 MB/s\u001b[0m eta \u001b[36m0:00:00\u001b[0m\n",
            "\u001b[2K   \u001b[90m━━━━━━━━━━━━━━━━━━━━━━━━━━━━━━━━━━━━━━━━\u001b[0m \u001b[32m207.5/207.5 MB\u001b[0m \u001b[31m1.9 MB/s\u001b[0m eta \u001b[36m0:00:00\u001b[0m\n",
            "\u001b[2K   \u001b[90m━━━━━━━━━━━━━━━━━━━━━━━━━━━━━━━━━━━━━━━━\u001b[0m \u001b[32m21.1/21.1 MB\u001b[0m \u001b[31m79.1 MB/s\u001b[0m eta \u001b[36m0:00:00\u001b[0m\n",
            "\u001b[?25h  Building wheel for langdetect (setup.py) ... \u001b[?25l\u001b[?25hdone\n",
            "  Building wheel for docopt (setup.py) ... \u001b[?25l\u001b[?25hdone\n",
            "\u001b[31mERROR: pip's dependency resolver does not currently take into account all the packages that are installed. This behaviour is the source of the following dependency conflicts.\n",
            "panel 1.6.0 requires bokeh<3.7.0,>=3.5.0, but you have bokeh 3.4.3 which is incompatible.\u001b[0m\u001b[31m\n",
            "\u001b[0m"
          ]
        }
      ]
    },
    {
      "cell_type": "code",
      "execution_count": null,
      "metadata": {
        "colab": {
          "base_uri": "https://localhost:8080/"
        },
        "id": "Mwx4bXnjYN0a",
        "outputId": "cd4a67fc-90c2-4f1e-d77c-c417bc7abc9f"
      },
      "outputs": [
        {
          "output_type": "stream",
          "name": "stdout",
          "text": [
            "\u001b[?25l   \u001b[90m━━━━━━━━━━━━━━━━━━━━━━━━━━━━━━━━━━━━━━━━\u001b[0m \u001b[32m0.0/121.9 kB\u001b[0m \u001b[31m?\u001b[0m eta \u001b[36m-:--:--\u001b[0m\r\u001b[2K   \u001b[90m━━━━━━━━━━━━━━━━━━━━━━━━━━━━━━━━━━━━━━━━\u001b[0m \u001b[32m121.9/121.9 kB\u001b[0m \u001b[31m6.1 MB/s\u001b[0m eta \u001b[36m0:00:00\u001b[0m\n",
            "\u001b[?25h"
          ]
        }
      ],
      "source": [
        "%pip install langchain-groq -q"
      ]
    },
    {
      "cell_type": "code",
      "source": [
        "%pip install groq -q"
      ],
      "metadata": {
        "id": "b2sM0mniwyFR"
      },
      "execution_count": null,
      "outputs": []
    },
    {
      "cell_type": "markdown",
      "source": [
        "## Package Imports"
      ],
      "metadata": {
        "id": "xHZhTdqAasBj"
      }
    },
    {
      "cell_type": "code",
      "source": [
        "import pandas as pd\n",
        "from langchain.chains import LLMChain, SequentialChain\n",
        "from langchain_groq import ChatGroq\n",
        "from langchain.prompts import ChatPromptTemplate"
      ],
      "metadata": {
        "id": "Cz-ysRxsZKBI"
      },
      "execution_count": null,
      "outputs": []
    },
    {
      "cell_type": "code",
      "source": [
        "import giskard\n",
        "from giskard import Dataset, Model, scan"
      ],
      "metadata": {
        "id": "oObeA-PJZjD8"
      },
      "execution_count": null,
      "outputs": []
    },
    {
      "cell_type": "code",
      "source": [
        "from IPython.display import display, Markdown"
      ],
      "metadata": {
        "id": "aBci4IbjfNLk"
      },
      "execution_count": null,
      "outputs": []
    },
    {
      "cell_type": "markdown",
      "source": [
        "## Groq LLM API Setup"
      ],
      "metadata": {
        "id": "nFv1-8iUavtp"
      }
    },
    {
      "cell_type": "code",
      "source": [
        "from google.colab import userdata\n",
        "GROQ_API_KEY = userdata.get('RED_GROQ_API_KEY')"
      ],
      "metadata": {
        "id": "f89Q4Bf0ayW8"
      },
      "execution_count": null,
      "outputs": []
    },
    {
      "cell_type": "code",
      "source": [
        "chat = ChatGroq(\n",
        "    temperature=0.2,\n",
        "    groq_api_key=GROQ_API_KEY,\n",
        "    model_name=\"llama-3.2-1b-preview\"\n",
        "    )"
      ],
      "metadata": {
        "id": "x08V7g3jZsKs"
      },
      "execution_count": null,
      "outputs": []
    },
    {
      "cell_type": "code",
      "source": [
        "system = \"You are a helpful assistant.\"\n",
        "human = \"{text}\"\n",
        "\n",
        "prompt = ChatPromptTemplate.from_messages(\n",
        "    [\n",
        "        (\"system\", system),\n",
        "        (\"human\", human)\n",
        "        ]\n",
        "    )\n",
        "\n",
        "chain = prompt | chat\n",
        "response = chain.invoke({\"text\": \"Tell me a scifi joke\"})\n",
        "\n",
        "print(response.content)"
      ],
      "metadata": {
        "colab": {
          "base_uri": "https://localhost:8080/"
        },
        "id": "0cueyX8ubTWm",
        "outputId": "d3315bc7-5b0e-459c-872b-d9b6b6729c30"
      },
      "execution_count": null,
      "outputs": [
        {
          "output_type": "stream",
          "name": "stdout",
          "text": [
            "Here's one:\n",
            "\n",
            "Why did the astronaut break up with his girlfriend before going to Mars?\n",
            "\n",
            "Because he needed space.\n",
            "\n",
            "I hope that one blasted off your funny bone!\n"
          ]
        }
      ]
    },
    {
      "cell_type": "markdown",
      "source": [
        "## Newspaper Summary App"
      ],
      "metadata": {
        "id": "6xemwhe5cn6u"
      }
    },
    {
      "cell_type": "markdown",
      "source": [
        "### Newpaper Articles Data"
      ],
      "metadata": {
        "id": "tTxWF-B1f-E6"
      }
    },
    {
      "cell_type": "code",
      "source": [
        "DATA_URL = \"https://raw.githubusercontent.com/sunnysai12345/News_Summary/master/news_summary_more.csv\"\n",
        "df = pd.read_csv(DATA_URL)\n",
        "df.shape"
      ],
      "metadata": {
        "colab": {
          "base_uri": "https://localhost:8080/"
        },
        "id": "18ev5tMUcaXT",
        "outputId": "c712c73a-0788-48a0-c1f1-0563aa888b92"
      },
      "execution_count": null,
      "outputs": [
        {
          "output_type": "execute_result",
          "data": {
            "text/plain": [
              "(98401, 2)"
            ]
          },
          "metadata": {},
          "execution_count": 13
        }
      ]
    },
    {
      "cell_type": "code",
      "source": [
        "TEXT_COLUMN_NAME = \"text\"\n",
        "RANDOM_STATE = 42\n",
        "\n",
        "df_filtered = df[[TEXT_COLUMN_NAME]].sample(10, random_state=RANDOM_STATE, ignore_index=True)\n",
        "df_filtered"
      ],
      "metadata": {
        "colab": {
          "base_uri": "https://localhost:8080/",
          "height": 363
        },
        "id": "boCfyBVycpT4",
        "outputId": "b136e4dc-007d-4100-84a3-60407cf3449f"
      },
      "execution_count": null,
      "outputs": [
        {
          "output_type": "execute_result",
          "data": {
            "text/plain": [
              "                                                text\n",
              "0  Students in Karnataka will get extra marks if ...\n",
              "1  Syrian anti-aircraft defences on Monday shot d...\n",
              "2  A Dinosaur-like creature's fossil was found du...\n",
              "3  The Uttar Pradesh government is planning to fo...\n",
              "4  Egyptian activist-actress Amal Fathy has been ...\n",
              "5  World's richest person and Amazon CEO Jeff Bez...\n",
              "6  Bangladesh cricket team's limited overs captai...\n",
              "7  Mexican drug lord Joaquin 'El Chapo' Guzman ha...\n",
              "8  Independent United Nations (UN) monitors have ...\n",
              "9  After reports of three Amrapali Group companie..."
            ],
            "text/html": [
              "\n",
              "  <div id=\"df-2a871041-6df5-44f9-87fe-1bd352ad0c0b\" class=\"colab-df-container\">\n",
              "    <div>\n",
              "<style scoped>\n",
              "    .dataframe tbody tr th:only-of-type {\n",
              "        vertical-align: middle;\n",
              "    }\n",
              "\n",
              "    .dataframe tbody tr th {\n",
              "        vertical-align: top;\n",
              "    }\n",
              "\n",
              "    .dataframe thead th {\n",
              "        text-align: right;\n",
              "    }\n",
              "</style>\n",
              "<table border=\"1\" class=\"dataframe\">\n",
              "  <thead>\n",
              "    <tr style=\"text-align: right;\">\n",
              "      <th></th>\n",
              "      <th>text</th>\n",
              "    </tr>\n",
              "  </thead>\n",
              "  <tbody>\n",
              "    <tr>\n",
              "      <th>0</th>\n",
              "      <td>Students in Karnataka will get extra marks if ...</td>\n",
              "    </tr>\n",
              "    <tr>\n",
              "      <th>1</th>\n",
              "      <td>Syrian anti-aircraft defences on Monday shot d...</td>\n",
              "    </tr>\n",
              "    <tr>\n",
              "      <th>2</th>\n",
              "      <td>A Dinosaur-like creature's fossil was found du...</td>\n",
              "    </tr>\n",
              "    <tr>\n",
              "      <th>3</th>\n",
              "      <td>The Uttar Pradesh government is planning to fo...</td>\n",
              "    </tr>\n",
              "    <tr>\n",
              "      <th>4</th>\n",
              "      <td>Egyptian activist-actress Amal Fathy has been ...</td>\n",
              "    </tr>\n",
              "    <tr>\n",
              "      <th>5</th>\n",
              "      <td>World's richest person and Amazon CEO Jeff Bez...</td>\n",
              "    </tr>\n",
              "    <tr>\n",
              "      <th>6</th>\n",
              "      <td>Bangladesh cricket team's limited overs captai...</td>\n",
              "    </tr>\n",
              "    <tr>\n",
              "      <th>7</th>\n",
              "      <td>Mexican drug lord Joaquin 'El Chapo' Guzman ha...</td>\n",
              "    </tr>\n",
              "    <tr>\n",
              "      <th>8</th>\n",
              "      <td>Independent United Nations (UN) monitors have ...</td>\n",
              "    </tr>\n",
              "    <tr>\n",
              "      <th>9</th>\n",
              "      <td>After reports of three Amrapali Group companie...</td>\n",
              "    </tr>\n",
              "  </tbody>\n",
              "</table>\n",
              "</div>\n",
              "    <div class=\"colab-df-buttons\">\n",
              "\n",
              "  <div class=\"colab-df-container\">\n",
              "    <button class=\"colab-df-convert\" onclick=\"convertToInteractive('df-2a871041-6df5-44f9-87fe-1bd352ad0c0b')\"\n",
              "            title=\"Convert this dataframe to an interactive table.\"\n",
              "            style=\"display:none;\">\n",
              "\n",
              "  <svg xmlns=\"http://www.w3.org/2000/svg\" height=\"24px\" viewBox=\"0 -960 960 960\">\n",
              "    <path d=\"M120-120v-720h720v720H120Zm60-500h600v-160H180v160Zm220 220h160v-160H400v160Zm0 220h160v-160H400v160ZM180-400h160v-160H180v160Zm440 0h160v-160H620v160ZM180-180h160v-160H180v160Zm440 0h160v-160H620v160Z\"/>\n",
              "  </svg>\n",
              "    </button>\n",
              "\n",
              "  <style>\n",
              "    .colab-df-container {\n",
              "      display:flex;\n",
              "      gap: 12px;\n",
              "    }\n",
              "\n",
              "    .colab-df-convert {\n",
              "      background-color: #E8F0FE;\n",
              "      border: none;\n",
              "      border-radius: 50%;\n",
              "      cursor: pointer;\n",
              "      display: none;\n",
              "      fill: #1967D2;\n",
              "      height: 32px;\n",
              "      padding: 0 0 0 0;\n",
              "      width: 32px;\n",
              "    }\n",
              "\n",
              "    .colab-df-convert:hover {\n",
              "      background-color: #E2EBFA;\n",
              "      box-shadow: 0px 1px 2px rgba(60, 64, 67, 0.3), 0px 1px 3px 1px rgba(60, 64, 67, 0.15);\n",
              "      fill: #174EA6;\n",
              "    }\n",
              "\n",
              "    .colab-df-buttons div {\n",
              "      margin-bottom: 4px;\n",
              "    }\n",
              "\n",
              "    [theme=dark] .colab-df-convert {\n",
              "      background-color: #3B4455;\n",
              "      fill: #D2E3FC;\n",
              "    }\n",
              "\n",
              "    [theme=dark] .colab-df-convert:hover {\n",
              "      background-color: #434B5C;\n",
              "      box-shadow: 0px 1px 3px 1px rgba(0, 0, 0, 0.15);\n",
              "      filter: drop-shadow(0px 1px 2px rgba(0, 0, 0, 0.3));\n",
              "      fill: #FFFFFF;\n",
              "    }\n",
              "  </style>\n",
              "\n",
              "    <script>\n",
              "      const buttonEl =\n",
              "        document.querySelector('#df-2a871041-6df5-44f9-87fe-1bd352ad0c0b button.colab-df-convert');\n",
              "      buttonEl.style.display =\n",
              "        google.colab.kernel.accessAllowed ? 'block' : 'none';\n",
              "\n",
              "      async function convertToInteractive(key) {\n",
              "        const element = document.querySelector('#df-2a871041-6df5-44f9-87fe-1bd352ad0c0b');\n",
              "        const dataTable =\n",
              "          await google.colab.kernel.invokeFunction('convertToInteractive',\n",
              "                                                    [key], {});\n",
              "        if (!dataTable) return;\n",
              "\n",
              "        const docLinkHtml = 'Like what you see? Visit the ' +\n",
              "          '<a target=\"_blank\" href=https://colab.research.google.com/notebooks/data_table.ipynb>data table notebook</a>'\n",
              "          + ' to learn more about interactive tables.';\n",
              "        element.innerHTML = '';\n",
              "        dataTable['output_type'] = 'display_data';\n",
              "        await google.colab.output.renderOutput(dataTable, element);\n",
              "        const docLink = document.createElement('div');\n",
              "        docLink.innerHTML = docLinkHtml;\n",
              "        element.appendChild(docLink);\n",
              "      }\n",
              "    </script>\n",
              "  </div>\n",
              "\n",
              "\n",
              "<div id=\"df-92685473-1c1f-4fb4-95f8-8798eb0aa207\">\n",
              "  <button class=\"colab-df-quickchart\" onclick=\"quickchart('df-92685473-1c1f-4fb4-95f8-8798eb0aa207')\"\n",
              "            title=\"Suggest charts\"\n",
              "            style=\"display:none;\">\n",
              "\n",
              "<svg xmlns=\"http://www.w3.org/2000/svg\" height=\"24px\"viewBox=\"0 0 24 24\"\n",
              "     width=\"24px\">\n",
              "    <g>\n",
              "        <path d=\"M19 3H5c-1.1 0-2 .9-2 2v14c0 1.1.9 2 2 2h14c1.1 0 2-.9 2-2V5c0-1.1-.9-2-2-2zM9 17H7v-7h2v7zm4 0h-2V7h2v10zm4 0h-2v-4h2v4z\"/>\n",
              "    </g>\n",
              "</svg>\n",
              "  </button>\n",
              "\n",
              "<style>\n",
              "  .colab-df-quickchart {\n",
              "      --bg-color: #E8F0FE;\n",
              "      --fill-color: #1967D2;\n",
              "      --hover-bg-color: #E2EBFA;\n",
              "      --hover-fill-color: #174EA6;\n",
              "      --disabled-fill-color: #AAA;\n",
              "      --disabled-bg-color: #DDD;\n",
              "  }\n",
              "\n",
              "  [theme=dark] .colab-df-quickchart {\n",
              "      --bg-color: #3B4455;\n",
              "      --fill-color: #D2E3FC;\n",
              "      --hover-bg-color: #434B5C;\n",
              "      --hover-fill-color: #FFFFFF;\n",
              "      --disabled-bg-color: #3B4455;\n",
              "      --disabled-fill-color: #666;\n",
              "  }\n",
              "\n",
              "  .colab-df-quickchart {\n",
              "    background-color: var(--bg-color);\n",
              "    border: none;\n",
              "    border-radius: 50%;\n",
              "    cursor: pointer;\n",
              "    display: none;\n",
              "    fill: var(--fill-color);\n",
              "    height: 32px;\n",
              "    padding: 0;\n",
              "    width: 32px;\n",
              "  }\n",
              "\n",
              "  .colab-df-quickchart:hover {\n",
              "    background-color: var(--hover-bg-color);\n",
              "    box-shadow: 0 1px 2px rgba(60, 64, 67, 0.3), 0 1px 3px 1px rgba(60, 64, 67, 0.15);\n",
              "    fill: var(--button-hover-fill-color);\n",
              "  }\n",
              "\n",
              "  .colab-df-quickchart-complete:disabled,\n",
              "  .colab-df-quickchart-complete:disabled:hover {\n",
              "    background-color: var(--disabled-bg-color);\n",
              "    fill: var(--disabled-fill-color);\n",
              "    box-shadow: none;\n",
              "  }\n",
              "\n",
              "  .colab-df-spinner {\n",
              "    border: 2px solid var(--fill-color);\n",
              "    border-color: transparent;\n",
              "    border-bottom-color: var(--fill-color);\n",
              "    animation:\n",
              "      spin 1s steps(1) infinite;\n",
              "  }\n",
              "\n",
              "  @keyframes spin {\n",
              "    0% {\n",
              "      border-color: transparent;\n",
              "      border-bottom-color: var(--fill-color);\n",
              "      border-left-color: var(--fill-color);\n",
              "    }\n",
              "    20% {\n",
              "      border-color: transparent;\n",
              "      border-left-color: var(--fill-color);\n",
              "      border-top-color: var(--fill-color);\n",
              "    }\n",
              "    30% {\n",
              "      border-color: transparent;\n",
              "      border-left-color: var(--fill-color);\n",
              "      border-top-color: var(--fill-color);\n",
              "      border-right-color: var(--fill-color);\n",
              "    }\n",
              "    40% {\n",
              "      border-color: transparent;\n",
              "      border-right-color: var(--fill-color);\n",
              "      border-top-color: var(--fill-color);\n",
              "    }\n",
              "    60% {\n",
              "      border-color: transparent;\n",
              "      border-right-color: var(--fill-color);\n",
              "    }\n",
              "    80% {\n",
              "      border-color: transparent;\n",
              "      border-right-color: var(--fill-color);\n",
              "      border-bottom-color: var(--fill-color);\n",
              "    }\n",
              "    90% {\n",
              "      border-color: transparent;\n",
              "      border-bottom-color: var(--fill-color);\n",
              "    }\n",
              "  }\n",
              "</style>\n",
              "\n",
              "  <script>\n",
              "    async function quickchart(key) {\n",
              "      const quickchartButtonEl =\n",
              "        document.querySelector('#' + key + ' button');\n",
              "      quickchartButtonEl.disabled = true;  // To prevent multiple clicks.\n",
              "      quickchartButtonEl.classList.add('colab-df-spinner');\n",
              "      try {\n",
              "        const charts = await google.colab.kernel.invokeFunction(\n",
              "            'suggestCharts', [key], {});\n",
              "      } catch (error) {\n",
              "        console.error('Error during call to suggestCharts:', error);\n",
              "      }\n",
              "      quickchartButtonEl.classList.remove('colab-df-spinner');\n",
              "      quickchartButtonEl.classList.add('colab-df-quickchart-complete');\n",
              "    }\n",
              "    (() => {\n",
              "      let quickchartButtonEl =\n",
              "        document.querySelector('#df-92685473-1c1f-4fb4-95f8-8798eb0aa207 button');\n",
              "      quickchartButtonEl.style.display =\n",
              "        google.colab.kernel.accessAllowed ? 'block' : 'none';\n",
              "    })();\n",
              "  </script>\n",
              "</div>\n",
              "\n",
              "  <div id=\"id_a9e5a5ca-e754-42ba-a63b-fea7c2ba37c7\">\n",
              "    <style>\n",
              "      .colab-df-generate {\n",
              "        background-color: #E8F0FE;\n",
              "        border: none;\n",
              "        border-radius: 50%;\n",
              "        cursor: pointer;\n",
              "        display: none;\n",
              "        fill: #1967D2;\n",
              "        height: 32px;\n",
              "        padding: 0 0 0 0;\n",
              "        width: 32px;\n",
              "      }\n",
              "\n",
              "      .colab-df-generate:hover {\n",
              "        background-color: #E2EBFA;\n",
              "        box-shadow: 0px 1px 2px rgba(60, 64, 67, 0.3), 0px 1px 3px 1px rgba(60, 64, 67, 0.15);\n",
              "        fill: #174EA6;\n",
              "      }\n",
              "\n",
              "      [theme=dark] .colab-df-generate {\n",
              "        background-color: #3B4455;\n",
              "        fill: #D2E3FC;\n",
              "      }\n",
              "\n",
              "      [theme=dark] .colab-df-generate:hover {\n",
              "        background-color: #434B5C;\n",
              "        box-shadow: 0px 1px 3px 1px rgba(0, 0, 0, 0.15);\n",
              "        filter: drop-shadow(0px 1px 2px rgba(0, 0, 0, 0.3));\n",
              "        fill: #FFFFFF;\n",
              "      }\n",
              "    </style>\n",
              "    <button class=\"colab-df-generate\" onclick=\"generateWithVariable('df_filtered')\"\n",
              "            title=\"Generate code using this dataframe.\"\n",
              "            style=\"display:none;\">\n",
              "\n",
              "  <svg xmlns=\"http://www.w3.org/2000/svg\" height=\"24px\"viewBox=\"0 0 24 24\"\n",
              "       width=\"24px\">\n",
              "    <path d=\"M7,19H8.4L18.45,9,17,7.55,7,17.6ZM5,21V16.75L18.45,3.32a2,2,0,0,1,2.83,0l1.4,1.43a1.91,1.91,0,0,1,.58,1.4,1.91,1.91,0,0,1-.58,1.4L9.25,21ZM18.45,9,17,7.55Zm-12,3A5.31,5.31,0,0,0,4.9,8.1,5.31,5.31,0,0,0,1,6.5,5.31,5.31,0,0,0,4.9,4.9,5.31,5.31,0,0,0,6.5,1,5.31,5.31,0,0,0,8.1,4.9,5.31,5.31,0,0,0,12,6.5,5.46,5.46,0,0,0,6.5,12Z\"/>\n",
              "  </svg>\n",
              "    </button>\n",
              "    <script>\n",
              "      (() => {\n",
              "      const buttonEl =\n",
              "        document.querySelector('#id_a9e5a5ca-e754-42ba-a63b-fea7c2ba37c7 button.colab-df-generate');\n",
              "      buttonEl.style.display =\n",
              "        google.colab.kernel.accessAllowed ? 'block' : 'none';\n",
              "\n",
              "      buttonEl.onclick = () => {\n",
              "        google.colab.notebook.generateWithVariable('df_filtered');\n",
              "      }\n",
              "      })();\n",
              "    </script>\n",
              "  </div>\n",
              "\n",
              "    </div>\n",
              "  </div>\n"
            ],
            "application/vnd.google.colaboratory.intrinsic+json": {
              "type": "dataframe",
              "variable_name": "df_filtered",
              "summary": "{\n  \"name\": \"df_filtered\",\n  \"rows\": 10,\n  \"fields\": [\n    {\n      \"column\": \"text\",\n      \"properties\": {\n        \"dtype\": \"string\",\n        \"num_unique_values\": 10,\n        \"samples\": [\n          \"Independent United Nations (UN) monitors have accused North Korea of supplying ballistic missile systems along with conventional weapons including rocket launchers and surface-to-air missiles to Myanmar. In a report to the UN Security Council's sanctions committee, the monitors also accused North Korea of supplying weapons to Syria and violating UN sanctions by exporting banned commodities. \",\n          \"Syrian anti-aircraft defences on Monday shot down missiles over two air bases, Syria's state media said. The missiles targeted Shayrat air base in the Homs province and another base northeast of the capital Damascus. This comes days after the US, UK and France launched air strikes on Syrian chemical weapons facilities in retaliation for the alleged chemical attack in Douma.\",\n          \"World's richest person and Amazon CEO Jeff Bezos added $32.6 billion to his wealth in 2017, which is higher than the GDP of 93 countries according to figures from IMF. It is also more than the combined GDP for one year of 28 countries. Bezos' net worth is currently $106 billion after Amazon shares surged by over 6% this year.\"\n        ],\n        \"semantic_type\": \"\",\n        \"description\": \"\"\n      }\n    }\n  ]\n}"
            }
          },
          "metadata": {},
          "execution_count": 14
        }
      ]
    },
    {
      "cell_type": "code",
      "source": [
        "display(Markdown(df_filtered.iloc[1]['text']))"
      ],
      "metadata": {
        "colab": {
          "base_uri": "https://localhost:8080/",
          "height": 81
        },
        "id": "RhVbXkvNfDmi",
        "outputId": "0ec4ab6b-101a-4d96-838f-0f067eb6e685"
      },
      "execution_count": null,
      "outputs": [
        {
          "output_type": "display_data",
          "data": {
            "text/plain": [
              "<IPython.core.display.Markdown object>"
            ],
            "text/markdown": "Syrian anti-aircraft defences on Monday shot down missiles over two air bases, Syria's state media said. The missiles targeted Shayrat air base in the Homs province and another base northeast of the capital Damascus. This comes days after the US, UK and France launched air strikes on Syrian chemical weapons facilities in retaliation for the alleged chemical attack in Douma."
          },
          "metadata": {}
        }
      ]
    },
    {
      "cell_type": "code",
      "source": [
        "giskard_dataset = Dataset(df_filtered, target=None)"
      ],
      "metadata": {
        "colab": {
          "base_uri": "https://localhost:8080/"
        },
        "id": "d03_Mgvnf4t9",
        "outputId": "d979e194-f882-4a5f-d3b1-4aba330ccaa2"
      },
      "execution_count": null,
      "outputs": [
        {
          "output_type": "stream",
          "name": "stderr",
          "text": [
            "INFO:giskard.datasets.base:Your 'pandas.DataFrame' is successfully wrapped by Giskard's 'Dataset' wrapper class.\n"
          ]
        }
      ]
    },
    {
      "cell_type": "markdown",
      "source": [
        "### Keyword Extraction + Summarization"
      ],
      "metadata": {
        "id": "axjwbXSpgIC2"
      }
    },
    {
      "cell_type": "code",
      "source": [
        "# First prompt to generate keywords related to the news article\n",
        "KEYWORDS_PROMPT_TEMPLATE = ChatPromptTemplate.from_messages([\n",
        "    (\"system\", \"\"\"You are a helpful assistant that generate a CSV list of \\\n",
        "    keywords related to a news article exerpt.\\\n",
        "\n",
        "    ----Example Format----\\\n",
        "    NEWS ARTICLE: news article here\\\n",
        "    KEYWORDS: keywords separated by commas here\\\n",
        "\n",
        "    Generate three to five important keywords for the news article.\\\n",
        "    \"\"\"),\n",
        "\n",
        "    (\"human\", \"\"\"\\\n",
        "    NEWS ARTICLE: {text}\\\n",
        "    KEYWORDS:\"\"\")\n",
        "    ])"
      ],
      "metadata": {
        "id": "bn_Bu_iwg_SG"
      },
      "execution_count": null,
      "outputs": []
    },
    {
      "cell_type": "code",
      "source": [
        "# Second chained prompt to generate a 1-line summary based on the given keywords from the first prompt\n",
        "SUMMARY_PROMPT_TEMPLATE = ChatPromptTemplate.from_messages([\n",
        "    (\"system\", \"\"\"You are a helpful assistant that generates a single line summary of the new article.\\\n",
        "    Limit to under 10 words.\\\n",
        "\n",
        "    ----Example Format----\n",
        "    NEWS ARTICLE: product name here\\\n",
        "    KEYWORDS: keywords separated by commas here\\\n",
        "    SUMMARY: 1-line summary here\\\n",
        "\n",
        "    Make sure to answer in a consistent format.\\\n",
        "    \"\"\"),\n",
        "\n",
        "    (\"human\", \"\"\"\n",
        "    NEWS ARTICLE: {text}\n",
        "    KEYWORDS: {keywords}\n",
        "    SUMMARY: \"\"\")\n",
        "    ])"
      ],
      "metadata": {
        "id": "_BxQOB8ilxoZ"
      },
      "execution_count": null,
      "outputs": []
    },
    {
      "cell_type": "code",
      "source": [
        "def generation_function(df: pd.DataFrame):\n",
        "    llm = ChatGroq(temperature=0.2, groq_api_key=GROQ_API_KEY, model_name=\"llama-3.2-1b-preview\")\n",
        "\n",
        "    # Define the chains.\n",
        "    keywords_chain = LLMChain(llm=llm, prompt=KEYWORDS_PROMPT_TEMPLATE, output_key=\"keywords\")\n",
        "    summary_chain = LLMChain(llm=llm, prompt=SUMMARY_PROMPT_TEMPLATE, output_key=\"summary\")\n",
        "\n",
        "    # Concatenate both chains.\n",
        "    article_summary_chain = SequentialChain(chains=[keywords_chain, summary_chain],\n",
        "                                                input_variables=[\"text\"],\n",
        "                                                output_variables=[\"summary\"])\n",
        "\n",
        "    return [article_summary_chain.invoke(article_text) for article_text in df['text']]"
      ],
      "metadata": {
        "id": "r8Rx4fYtpNh4"
      },
      "execution_count": null,
      "outputs": []
    },
    {
      "cell_type": "markdown",
      "source": [
        "Chain Inference Test"
      ],
      "metadata": {
        "id": "rUC6Sf8Yps_V"
      }
    },
    {
      "cell_type": "code",
      "source": [
        "test_responses = generation_function(df_filtered.head(2))"
      ],
      "metadata": {
        "id": "rpmGvGu1pOUc"
      },
      "execution_count": null,
      "outputs": []
    },
    {
      "cell_type": "code",
      "source": [
        "for res in test_responses:\n",
        "  display(Markdown(res['text']))\n",
        "  print('----------')\n",
        "  display(Markdown(res['summary']))\n",
        "  print(\"================================\\n\")"
      ],
      "metadata": {
        "colab": {
          "base_uri": "https://localhost:8080/",
          "height": 312
        },
        "id": "3YC1-osapPIa",
        "outputId": "2447e808-bb64-4f1c-f237-a156c7ddca3b"
      },
      "execution_count": null,
      "outputs": [
        {
          "output_type": "display_data",
          "data": {
            "text/plain": [
              "<IPython.core.display.Markdown object>"
            ],
            "text/markdown": "Students in Karnataka will get extra marks if their parents cast votes in the upcoming assembly elections, the Associated Management of Primary and Secondary Schools has announced. The \"Encouraging Marks\" will be added in the 2018-19 academic year. The association said, \"After casting their votes, parents can visit member schools...and confirm that they voted by showing the indelible ink mark.\""
          },
          "metadata": {}
        },
        {
          "output_type": "stream",
          "name": "stdout",
          "text": [
            "----------\n"
          ]
        },
        {
          "output_type": "display_data",
          "data": {
            "text/plain": [
              "<IPython.core.display.Markdown object>"
            ],
            "text/markdown": "Students in Karnataka to receive extra marks for parental voting."
          },
          "metadata": {}
        },
        {
          "output_type": "stream",
          "name": "stdout",
          "text": [
            "================================\n",
            "\n"
          ]
        },
        {
          "output_type": "display_data",
          "data": {
            "text/plain": [
              "<IPython.core.display.Markdown object>"
            ],
            "text/markdown": "Syrian anti-aircraft defences on Monday shot down missiles over two air bases, Syria's state media said. The missiles targeted Shayrat air base in the Homs province and another base northeast of the capital Damascus. This comes days after the US, UK and France launched air strikes on Syrian chemical weapons facilities in retaliation for the alleged chemical attack in Douma."
          },
          "metadata": {}
        },
        {
          "output_type": "stream",
          "name": "stdout",
          "text": [
            "----------\n"
          ]
        },
        {
          "output_type": "display_data",
          "data": {
            "text/plain": [
              "<IPython.core.display.Markdown object>"
            ],
            "text/markdown": "Syria's air bases targeted by missiles."
          },
          "metadata": {}
        },
        {
          "output_type": "stream",
          "name": "stdout",
          "text": [
            "================================\n",
            "\n"
          ]
        }
      ]
    },
    {
      "cell_type": "markdown",
      "source": [
        "## Giskard Model Wrapper"
      ],
      "metadata": {
        "id": "VkFjwEuUmBr5"
      }
    },
    {
      "cell_type": "code",
      "source": [
        "# Wrap the description chain.\n",
        "giskard_model = Model(\n",
        "    model=generation_function,\n",
        "    # A prediction function that encapsulates all the data pre-processing steps\n",
        "    # and that could be executed with the dataset\n",
        "    model_type=\"text_generation\",\n",
        "    # Either regression, classification or text_generation.\n",
        "    name=\"News Article keywords and single line summary generator\",  # Optional\n",
        "    description=\"\"\"Generate one line summary of news paper article based on \\\n",
        "    article exerpt and the associated keywords.\"\"\",\n",
        "    # Is used to generate prompts\n",
        "    feature_names=['text']  # Default: all columns of your dataset.\n",
        ")\n",
        "\n",
        "# Optional: Wrap a dataframe of sample input prompts to validate the model\n",
        "# wrapping and to narrow specific tests' queries.\n",
        "giskard_dataset = Dataset(df_filtered, target=None)"
      ],
      "metadata": {
        "colab": {
          "base_uri": "https://localhost:8080/"
        },
        "id": "WPOFGDAdp2iv",
        "outputId": "bd0796af-3fa4-4b5f-93af-97a47c560a85"
      },
      "execution_count": null,
      "outputs": [
        {
          "output_type": "stream",
          "name": "stderr",
          "text": [
            "INFO:giskard.models.automodel:Your 'prediction_function' is successfully wrapped by Giskard's 'PredictionFunctionModel' wrapper class.\n",
            "INFO:giskard.datasets.base:Your 'pandas.DataFrame' is successfully wrapped by Giskard's 'Dataset' wrapper class.\n"
          ]
        }
      ]
    },
    {
      "cell_type": "code",
      "source": [
        "giskard_dataset.df"
      ],
      "metadata": {
        "colab": {
          "base_uri": "https://localhost:8080/",
          "height": 363
        },
        "id": "aQPbN3W3z35G",
        "outputId": "c7c44149-8832-4ef2-8713-c62f360e5262"
      },
      "execution_count": null,
      "outputs": [
        {
          "output_type": "execute_result",
          "data": {
            "text/plain": [
              "                                                text\n",
              "0  Students in Karnataka will get extra marks if ...\n",
              "1  Syrian anti-aircraft defences on Monday shot d...\n",
              "2  A Dinosaur-like creature's fossil was found du...\n",
              "3  The Uttar Pradesh government is planning to fo...\n",
              "4  Egyptian activist-actress Amal Fathy has been ...\n",
              "5  World's richest person and Amazon CEO Jeff Bez...\n",
              "6  Bangladesh cricket team's limited overs captai...\n",
              "7  Mexican drug lord Joaquin 'El Chapo' Guzman ha...\n",
              "8  Independent United Nations (UN) monitors have ...\n",
              "9  After reports of three Amrapali Group companie..."
            ],
            "text/html": [
              "\n",
              "  <div id=\"df-6984a511-3de7-45c5-a9b1-b944696a7649\" class=\"colab-df-container\">\n",
              "    <div>\n",
              "<style scoped>\n",
              "    .dataframe tbody tr th:only-of-type {\n",
              "        vertical-align: middle;\n",
              "    }\n",
              "\n",
              "    .dataframe tbody tr th {\n",
              "        vertical-align: top;\n",
              "    }\n",
              "\n",
              "    .dataframe thead th {\n",
              "        text-align: right;\n",
              "    }\n",
              "</style>\n",
              "<table border=\"1\" class=\"dataframe\">\n",
              "  <thead>\n",
              "    <tr style=\"text-align: right;\">\n",
              "      <th></th>\n",
              "      <th>text</th>\n",
              "    </tr>\n",
              "  </thead>\n",
              "  <tbody>\n",
              "    <tr>\n",
              "      <th>0</th>\n",
              "      <td>Students in Karnataka will get extra marks if ...</td>\n",
              "    </tr>\n",
              "    <tr>\n",
              "      <th>1</th>\n",
              "      <td>Syrian anti-aircraft defences on Monday shot d...</td>\n",
              "    </tr>\n",
              "    <tr>\n",
              "      <th>2</th>\n",
              "      <td>A Dinosaur-like creature's fossil was found du...</td>\n",
              "    </tr>\n",
              "    <tr>\n",
              "      <th>3</th>\n",
              "      <td>The Uttar Pradesh government is planning to fo...</td>\n",
              "    </tr>\n",
              "    <tr>\n",
              "      <th>4</th>\n",
              "      <td>Egyptian activist-actress Amal Fathy has been ...</td>\n",
              "    </tr>\n",
              "    <tr>\n",
              "      <th>5</th>\n",
              "      <td>World's richest person and Amazon CEO Jeff Bez...</td>\n",
              "    </tr>\n",
              "    <tr>\n",
              "      <th>6</th>\n",
              "      <td>Bangladesh cricket team's limited overs captai...</td>\n",
              "    </tr>\n",
              "    <tr>\n",
              "      <th>7</th>\n",
              "      <td>Mexican drug lord Joaquin 'El Chapo' Guzman ha...</td>\n",
              "    </tr>\n",
              "    <tr>\n",
              "      <th>8</th>\n",
              "      <td>Independent United Nations (UN) monitors have ...</td>\n",
              "    </tr>\n",
              "    <tr>\n",
              "      <th>9</th>\n",
              "      <td>After reports of three Amrapali Group companie...</td>\n",
              "    </tr>\n",
              "  </tbody>\n",
              "</table>\n",
              "</div>\n",
              "    <div class=\"colab-df-buttons\">\n",
              "\n",
              "  <div class=\"colab-df-container\">\n",
              "    <button class=\"colab-df-convert\" onclick=\"convertToInteractive('df-6984a511-3de7-45c5-a9b1-b944696a7649')\"\n",
              "            title=\"Convert this dataframe to an interactive table.\"\n",
              "            style=\"display:none;\">\n",
              "\n",
              "  <svg xmlns=\"http://www.w3.org/2000/svg\" height=\"24px\" viewBox=\"0 -960 960 960\">\n",
              "    <path d=\"M120-120v-720h720v720H120Zm60-500h600v-160H180v160Zm220 220h160v-160H400v160Zm0 220h160v-160H400v160ZM180-400h160v-160H180v160Zm440 0h160v-160H620v160ZM180-180h160v-160H180v160Zm440 0h160v-160H620v160Z\"/>\n",
              "  </svg>\n",
              "    </button>\n",
              "\n",
              "  <style>\n",
              "    .colab-df-container {\n",
              "      display:flex;\n",
              "      gap: 12px;\n",
              "    }\n",
              "\n",
              "    .colab-df-convert {\n",
              "      background-color: #E8F0FE;\n",
              "      border: none;\n",
              "      border-radius: 50%;\n",
              "      cursor: pointer;\n",
              "      display: none;\n",
              "      fill: #1967D2;\n",
              "      height: 32px;\n",
              "      padding: 0 0 0 0;\n",
              "      width: 32px;\n",
              "    }\n",
              "\n",
              "    .colab-df-convert:hover {\n",
              "      background-color: #E2EBFA;\n",
              "      box-shadow: 0px 1px 2px rgba(60, 64, 67, 0.3), 0px 1px 3px 1px rgba(60, 64, 67, 0.15);\n",
              "      fill: #174EA6;\n",
              "    }\n",
              "\n",
              "    .colab-df-buttons div {\n",
              "      margin-bottom: 4px;\n",
              "    }\n",
              "\n",
              "    [theme=dark] .colab-df-convert {\n",
              "      background-color: #3B4455;\n",
              "      fill: #D2E3FC;\n",
              "    }\n",
              "\n",
              "    [theme=dark] .colab-df-convert:hover {\n",
              "      background-color: #434B5C;\n",
              "      box-shadow: 0px 1px 3px 1px rgba(0, 0, 0, 0.15);\n",
              "      filter: drop-shadow(0px 1px 2px rgba(0, 0, 0, 0.3));\n",
              "      fill: #FFFFFF;\n",
              "    }\n",
              "  </style>\n",
              "\n",
              "    <script>\n",
              "      const buttonEl =\n",
              "        document.querySelector('#df-6984a511-3de7-45c5-a9b1-b944696a7649 button.colab-df-convert');\n",
              "      buttonEl.style.display =\n",
              "        google.colab.kernel.accessAllowed ? 'block' : 'none';\n",
              "\n",
              "      async function convertToInteractive(key) {\n",
              "        const element = document.querySelector('#df-6984a511-3de7-45c5-a9b1-b944696a7649');\n",
              "        const dataTable =\n",
              "          await google.colab.kernel.invokeFunction('convertToInteractive',\n",
              "                                                    [key], {});\n",
              "        if (!dataTable) return;\n",
              "\n",
              "        const docLinkHtml = 'Like what you see? Visit the ' +\n",
              "          '<a target=\"_blank\" href=https://colab.research.google.com/notebooks/data_table.ipynb>data table notebook</a>'\n",
              "          + ' to learn more about interactive tables.';\n",
              "        element.innerHTML = '';\n",
              "        dataTable['output_type'] = 'display_data';\n",
              "        await google.colab.output.renderOutput(dataTable, element);\n",
              "        const docLink = document.createElement('div');\n",
              "        docLink.innerHTML = docLinkHtml;\n",
              "        element.appendChild(docLink);\n",
              "      }\n",
              "    </script>\n",
              "  </div>\n",
              "\n",
              "\n",
              "<div id=\"df-0ad155bb-d32d-4551-abbf-500ed4126572\">\n",
              "  <button class=\"colab-df-quickchart\" onclick=\"quickchart('df-0ad155bb-d32d-4551-abbf-500ed4126572')\"\n",
              "            title=\"Suggest charts\"\n",
              "            style=\"display:none;\">\n",
              "\n",
              "<svg xmlns=\"http://www.w3.org/2000/svg\" height=\"24px\"viewBox=\"0 0 24 24\"\n",
              "     width=\"24px\">\n",
              "    <g>\n",
              "        <path d=\"M19 3H5c-1.1 0-2 .9-2 2v14c0 1.1.9 2 2 2h14c1.1 0 2-.9 2-2V5c0-1.1-.9-2-2-2zM9 17H7v-7h2v7zm4 0h-2V7h2v10zm4 0h-2v-4h2v4z\"/>\n",
              "    </g>\n",
              "</svg>\n",
              "  </button>\n",
              "\n",
              "<style>\n",
              "  .colab-df-quickchart {\n",
              "      --bg-color: #E8F0FE;\n",
              "      --fill-color: #1967D2;\n",
              "      --hover-bg-color: #E2EBFA;\n",
              "      --hover-fill-color: #174EA6;\n",
              "      --disabled-fill-color: #AAA;\n",
              "      --disabled-bg-color: #DDD;\n",
              "  }\n",
              "\n",
              "  [theme=dark] .colab-df-quickchart {\n",
              "      --bg-color: #3B4455;\n",
              "      --fill-color: #D2E3FC;\n",
              "      --hover-bg-color: #434B5C;\n",
              "      --hover-fill-color: #FFFFFF;\n",
              "      --disabled-bg-color: #3B4455;\n",
              "      --disabled-fill-color: #666;\n",
              "  }\n",
              "\n",
              "  .colab-df-quickchart {\n",
              "    background-color: var(--bg-color);\n",
              "    border: none;\n",
              "    border-radius: 50%;\n",
              "    cursor: pointer;\n",
              "    display: none;\n",
              "    fill: var(--fill-color);\n",
              "    height: 32px;\n",
              "    padding: 0;\n",
              "    width: 32px;\n",
              "  }\n",
              "\n",
              "  .colab-df-quickchart:hover {\n",
              "    background-color: var(--hover-bg-color);\n",
              "    box-shadow: 0 1px 2px rgba(60, 64, 67, 0.3), 0 1px 3px 1px rgba(60, 64, 67, 0.15);\n",
              "    fill: var(--button-hover-fill-color);\n",
              "  }\n",
              "\n",
              "  .colab-df-quickchart-complete:disabled,\n",
              "  .colab-df-quickchart-complete:disabled:hover {\n",
              "    background-color: var(--disabled-bg-color);\n",
              "    fill: var(--disabled-fill-color);\n",
              "    box-shadow: none;\n",
              "  }\n",
              "\n",
              "  .colab-df-spinner {\n",
              "    border: 2px solid var(--fill-color);\n",
              "    border-color: transparent;\n",
              "    border-bottom-color: var(--fill-color);\n",
              "    animation:\n",
              "      spin 1s steps(1) infinite;\n",
              "  }\n",
              "\n",
              "  @keyframes spin {\n",
              "    0% {\n",
              "      border-color: transparent;\n",
              "      border-bottom-color: var(--fill-color);\n",
              "      border-left-color: var(--fill-color);\n",
              "    }\n",
              "    20% {\n",
              "      border-color: transparent;\n",
              "      border-left-color: var(--fill-color);\n",
              "      border-top-color: var(--fill-color);\n",
              "    }\n",
              "    30% {\n",
              "      border-color: transparent;\n",
              "      border-left-color: var(--fill-color);\n",
              "      border-top-color: var(--fill-color);\n",
              "      border-right-color: var(--fill-color);\n",
              "    }\n",
              "    40% {\n",
              "      border-color: transparent;\n",
              "      border-right-color: var(--fill-color);\n",
              "      border-top-color: var(--fill-color);\n",
              "    }\n",
              "    60% {\n",
              "      border-color: transparent;\n",
              "      border-right-color: var(--fill-color);\n",
              "    }\n",
              "    80% {\n",
              "      border-color: transparent;\n",
              "      border-right-color: var(--fill-color);\n",
              "      border-bottom-color: var(--fill-color);\n",
              "    }\n",
              "    90% {\n",
              "      border-color: transparent;\n",
              "      border-bottom-color: var(--fill-color);\n",
              "    }\n",
              "  }\n",
              "</style>\n",
              "\n",
              "  <script>\n",
              "    async function quickchart(key) {\n",
              "      const quickchartButtonEl =\n",
              "        document.querySelector('#' + key + ' button');\n",
              "      quickchartButtonEl.disabled = true;  // To prevent multiple clicks.\n",
              "      quickchartButtonEl.classList.add('colab-df-spinner');\n",
              "      try {\n",
              "        const charts = await google.colab.kernel.invokeFunction(\n",
              "            'suggestCharts', [key], {});\n",
              "      } catch (error) {\n",
              "        console.error('Error during call to suggestCharts:', error);\n",
              "      }\n",
              "      quickchartButtonEl.classList.remove('colab-df-spinner');\n",
              "      quickchartButtonEl.classList.add('colab-df-quickchart-complete');\n",
              "    }\n",
              "    (() => {\n",
              "      let quickchartButtonEl =\n",
              "        document.querySelector('#df-0ad155bb-d32d-4551-abbf-500ed4126572 button');\n",
              "      quickchartButtonEl.style.display =\n",
              "        google.colab.kernel.accessAllowed ? 'block' : 'none';\n",
              "    })();\n",
              "  </script>\n",
              "</div>\n",
              "\n",
              "    </div>\n",
              "  </div>\n"
            ],
            "application/vnd.google.colaboratory.intrinsic+json": {
              "type": "dataframe",
              "summary": "{\n  \"name\": \"giskard_dataset\",\n  \"rows\": 10,\n  \"fields\": [\n    {\n      \"column\": \"text\",\n      \"properties\": {\n        \"dtype\": \"string\",\n        \"num_unique_values\": 10,\n        \"samples\": [\n          \"Independent United Nations (UN) monitors have accused North Korea of supplying ballistic missile systems along with conventional weapons including rocket launchers and surface-to-air missiles to Myanmar. In a report to the UN Security Council's sanctions committee, the monitors also accused North Korea of supplying weapons to Syria and violating UN sanctions by exporting banned commodities. \",\n          \"Syrian anti-aircraft defences on Monday shot down missiles over two air bases, Syria's state media said. The missiles targeted Shayrat air base in the Homs province and another base northeast of the capital Damascus. This comes days after the US, UK and France launched air strikes on Syrian chemical weapons facilities in retaliation for the alleged chemical attack in Douma.\",\n          \"World's richest person and Amazon CEO Jeff Bezos added $32.6 billion to his wealth in 2017, which is higher than the GDP of 93 countries according to figures from IMF. It is also more than the combined GDP for one year of 28 countries. Bezos' net worth is currently $106 billion after Amazon shares surged by over 6% this year.\"\n        ],\n        \"semantic_type\": \"\",\n        \"description\": \"\"\n      }\n    }\n  ]\n}"
            }
          },
          "metadata": {},
          "execution_count": 33
        }
      ]
    },
    {
      "cell_type": "code",
      "source": [
        "%%timeit\n",
        "\n",
        "# Validate the wrapped model and dataset.\n",
        "print(giskard_model.predict(giskard_dataset).prediction)"
      ],
      "metadata": {
        "colab": {
          "base_uri": "https://localhost:8080/"
        },
        "id": "gGmBbFdnp2dh",
        "outputId": "70340da8-100f-486e-ebeb-8e2e83da9e0d"
      },
      "execution_count": null,
      "outputs": [
        {
          "output_type": "stream",
          "name": "stderr",
          "text": [
            "INFO:giskard.datasets.base:Casting dataframe columns from {'text': 'object'} to {'text': 'object'}\n",
            "INFO:giskard.utils.logging_utils:Predicted dataset with shape (10, 1) executed in 0:00:03.298043\n",
            "INFO:giskard.datasets.base:Casting dataframe columns from {'text': 'object'} to {'text': 'object'}\n",
            "INFO:giskard.utils.logging_utils:Predicted dataset with shape (10, 1) executed in 0:00:00.016438\n",
            "INFO:giskard.datasets.base:Casting dataframe columns from {'text': 'object'} to {'text': 'object'}\n",
            "INFO:giskard.utils.logging_utils:Predicted dataset with shape (10, 1) executed in 0:00:00.010706\n",
            "INFO:giskard.datasets.base:Casting dataframe columns from {'text': 'object'} to {'text': 'object'}\n",
            "INFO:giskard.utils.logging_utils:Predicted dataset with shape (10, 1) executed in 0:00:00.010973\n",
            "INFO:giskard.datasets.base:Casting dataframe columns from {'text': 'object'} to {'text': 'object'}\n",
            "INFO:giskard.utils.logging_utils:Predicted dataset with shape (10, 1) executed in 0:00:00.011334\n",
            "INFO:giskard.datasets.base:Casting dataframe columns from {'text': 'object'} to {'text': 'object'}\n",
            "INFO:giskard.utils.logging_utils:Predicted dataset with shape (10, 1) executed in 0:00:00.012149\n",
            "INFO:giskard.datasets.base:Casting dataframe columns from {'text': 'object'} to {'text': 'object'}\n",
            "INFO:giskard.utils.logging_utils:Predicted dataset with shape (10, 1) executed in 0:00:00.019367\n",
            "INFO:giskard.datasets.base:Casting dataframe columns from {'text': 'object'} to {'text': 'object'}\n",
            "INFO:giskard.utils.logging_utils:Predicted dataset with shape (10, 1) executed in 0:00:00.016167\n"
          ]
        },
        {
          "output_type": "stream",
          "name": "stdout",
          "text": [
            "[{'text': 'Students in Karnataka will get extra marks if their parents cast votes in the upcoming assembly elections, the Associated Management of Primary and Secondary Schools has announced. The \"Encouraging Marks\" will be added in the 2018-19 academic year. The association said, \"After casting their votes, parents can visit member schools...and confirm that they voted by showing the indelible ink mark.\"', 'summary': 'Students in Karnataka to receive extra marks for parental voting.'}\n",
            " {'text': \"Syrian anti-aircraft defences on Monday shot down missiles over two air bases, Syria's state media said. The missiles targeted Shayrat air base in the Homs province and another base northeast of the capital Damascus. This comes days after the US, UK and France launched air strikes on Syrian chemical weapons facilities in retaliation for the alleged chemical attack in Douma.\", 'summary': \"Syria's airbases targeted by missiles in retaliation for Douma attack.\"}\n",
            " {'text': \"A Dinosaur-like creature's fossil was found during an excavation on Sunday in Uttarakhand's Jaspur, a small city 110 km from Nainital. The fossil's hind legs measure around 29 cm while the tail is around 5 cm long. Found at an abandoned electricity department land, the authorities would be sending the remains to Dehradun-based Wildlife Institute of India for further investigation.\", 'summary': 'Dinosaur fossil found in Uttarakhand, sent to Wildlife Institute.'}\n",
            " {'text': \"The Uttar Pradesh government is planning to form a 'UP Muslim Waqf Board' by merging the separate Shia and Sunni Waqf boards to prevent wastage of funds, Minister of State for Waqf Mohsin Raza said. The merged Waqf board will have members from both the communities and its Chairman will be selected from among them, he added. \", 'summary': 'UP Muslim Waqf Board to merge Shia and Sunni Waqf boards.'}\n",
            " {'text': 'Egyptian activist-actress Amal Fathy has been given a sentence of two years on charges of \"spreading false news\" for uploading a video on Facebook, wherein she alleged that she faced sexual harassment at a bank. Fathy was charged with \"disseminating a video on social media to publicly incite overthrowing the government\". She has already spent over 140 days in prison.', 'summary': 'Amal Fathy sentenced to 2 years for spreading false news.'}\n",
            " {'text': \"World's richest person and Amazon CEO Jeff Bezos added $32.6 billion to his wealth in 2017, which is higher than the GDP of 93 countries according to figures from IMF. It is also more than the combined GDP for one year of 28 countries. Bezos' net worth is currently $106 billion after Amazon shares surged by over 6% this year.\", 'summary': \"Jeff Bezos' net worth surges to $106 billion.\"}\n",
            " {'text': \"Bangladesh cricket team's limited overs captain Mashrafe Mortaza on Tuesday announced that he will retire from T20 international cricket after the end of the series against Sri Lanka. The 33-year-old pace bowler has featured in 52 T20I matches for his nation so far, picking up 39 wickets and registering 368 runs at an average of 13.62.\", 'summary': \"Bangladesh's Mashrafe Mortaza to retire from T20 cricket.\"}\n",
            " {'text': \"Mexican drug lord Joaquin 'El Chapo' Guzman has claimed that his extradition to US from Mexico violated the terms of a US-Mexico treaty. According to the terms, Guzman had to be transferred to either California or Texas, however, on the day of his extradition, Mexico waived the terms and consented instead to send him to New York, Guzman's lawyers said.\", 'summary': \"Joaquin 'El Chapo' Guzman claims US-Mexico treaty was waived.\"}\n",
            " {'text': \"Independent United Nations (UN) monitors have accused North Korea of supplying ballistic missile systems along with conventional weapons including rocket launchers and surface-to-air missiles to Myanmar. In a report to the UN Security Council's sanctions committee, the monitors also accused North Korea of supplying weapons to Syria and violating UN sanctions by exporting banned commodities. \", 'summary': 'North Korea supplies Myanmar with ballistic missiles.'}\n",
            " {'text': 'After reports of three Amrapali Group companies going into insolvency surfaced, several home buyers slammed cricketer Harbhajan Singh, who was once the brand ambassador of the company. A user claimed that Harbhajan and MS Dhoni had received free flats from the company while he lost his money. Harbhajan responded saying even he was made a fool by the company.', 'summary': 'Cricketer Harbhajan Singh responds to Amrapali Group insolvency claims.'}]\n",
            "[{'text': 'Students in Karnataka will get extra marks if their parents cast votes in the upcoming assembly elections, the Associated Management of Primary and Secondary Schools has announced. The \"Encouraging Marks\" will be added in the 2018-19 academic year. The association said, \"After casting their votes, parents can visit member schools...and confirm that they voted by showing the indelible ink mark.\"', 'summary': 'Students in Karnataka to receive extra marks for parental voting.'}\n",
            " {'text': \"Syrian anti-aircraft defences on Monday shot down missiles over two air bases, Syria's state media said. The missiles targeted Shayrat air base in the Homs province and another base northeast of the capital Damascus. This comes days after the US, UK and France launched air strikes on Syrian chemical weapons facilities in retaliation for the alleged chemical attack in Douma.\", 'summary': \"Syria's airbases targeted by missiles in retaliation for Douma attack.\"}\n",
            " {'text': \"A Dinosaur-like creature's fossil was found during an excavation on Sunday in Uttarakhand's Jaspur, a small city 110 km from Nainital. The fossil's hind legs measure around 29 cm while the tail is around 5 cm long. Found at an abandoned electricity department land, the authorities would be sending the remains to Dehradun-based Wildlife Institute of India for further investigation.\", 'summary': 'Dinosaur fossil found in Uttarakhand, sent to Wildlife Institute.'}\n",
            " {'text': \"The Uttar Pradesh government is planning to form a 'UP Muslim Waqf Board' by merging the separate Shia and Sunni Waqf boards to prevent wastage of funds, Minister of State for Waqf Mohsin Raza said. The merged Waqf board will have members from both the communities and its Chairman will be selected from among them, he added. \", 'summary': 'UP Muslim Waqf Board to merge Shia and Sunni Waqf boards.'}\n",
            " {'text': 'Egyptian activist-actress Amal Fathy has been given a sentence of two years on charges of \"spreading false news\" for uploading a video on Facebook, wherein she alleged that she faced sexual harassment at a bank. Fathy was charged with \"disseminating a video on social media to publicly incite overthrowing the government\". She has already spent over 140 days in prison.', 'summary': 'Amal Fathy sentenced to 2 years for spreading false news.'}\n",
            " {'text': \"World's richest person and Amazon CEO Jeff Bezos added $32.6 billion to his wealth in 2017, which is higher than the GDP of 93 countries according to figures from IMF. It is also more than the combined GDP for one year of 28 countries. Bezos' net worth is currently $106 billion after Amazon shares surged by over 6% this year.\", 'summary': \"Jeff Bezos' net worth surges to $106 billion.\"}\n",
            " {'text': \"Bangladesh cricket team's limited overs captain Mashrafe Mortaza on Tuesday announced that he will retire from T20 international cricket after the end of the series against Sri Lanka. The 33-year-old pace bowler has featured in 52 T20I matches for his nation so far, picking up 39 wickets and registering 368 runs at an average of 13.62.\", 'summary': \"Bangladesh's Mashrafe Mortaza to retire from T20 cricket.\"}\n",
            " {'text': \"Mexican drug lord Joaquin 'El Chapo' Guzman has claimed that his extradition to US from Mexico violated the terms of a US-Mexico treaty. According to the terms, Guzman had to be transferred to either California or Texas, however, on the day of his extradition, Mexico waived the terms and consented instead to send him to New York, Guzman's lawyers said.\", 'summary': \"Joaquin 'El Chapo' Guzman claims US-Mexico treaty was waived.\"}\n",
            " {'text': \"Independent United Nations (UN) monitors have accused North Korea of supplying ballistic missile systems along with conventional weapons including rocket launchers and surface-to-air missiles to Myanmar. In a report to the UN Security Council's sanctions committee, the monitors also accused North Korea of supplying weapons to Syria and violating UN sanctions by exporting banned commodities. \", 'summary': 'North Korea supplies Myanmar with ballistic missiles.'}\n",
            " {'text': 'After reports of three Amrapali Group companies going into insolvency surfaced, several home buyers slammed cricketer Harbhajan Singh, who was once the brand ambassador of the company. A user claimed that Harbhajan and MS Dhoni had received free flats from the company while he lost his money. Harbhajan responded saying even he was made a fool by the company.', 'summary': 'Cricketer Harbhajan Singh responds to Amrapali Group insolvency claims.'}]\n",
            "[{'text': 'Students in Karnataka will get extra marks if their parents cast votes in the upcoming assembly elections, the Associated Management of Primary and Secondary Schools has announced. The \"Encouraging Marks\" will be added in the 2018-19 academic year. The association said, \"After casting their votes, parents can visit member schools...and confirm that they voted by showing the indelible ink mark.\"', 'summary': 'Students in Karnataka to receive extra marks for parental voting.'}\n",
            " {'text': \"Syrian anti-aircraft defences on Monday shot down missiles over two air bases, Syria's state media said. The missiles targeted Shayrat air base in the Homs province and another base northeast of the capital Damascus. This comes days after the US, UK and France launched air strikes on Syrian chemical weapons facilities in retaliation for the alleged chemical attack in Douma.\", 'summary': \"Syria's airbases targeted by missiles in retaliation for Douma attack.\"}\n",
            " {'text': \"A Dinosaur-like creature's fossil was found during an excavation on Sunday in Uttarakhand's Jaspur, a small city 110 km from Nainital. The fossil's hind legs measure around 29 cm while the tail is around 5 cm long. Found at an abandoned electricity department land, the authorities would be sending the remains to Dehradun-based Wildlife Institute of India for further investigation.\", 'summary': 'Dinosaur fossil found in Uttarakhand, sent to Wildlife Institute.'}\n",
            " {'text': \"The Uttar Pradesh government is planning to form a 'UP Muslim Waqf Board' by merging the separate Shia and Sunni Waqf boards to prevent wastage of funds, Minister of State for Waqf Mohsin Raza said. The merged Waqf board will have members from both the communities and its Chairman will be selected from among them, he added. \", 'summary': 'UP Muslim Waqf Board to merge Shia and Sunni Waqf boards.'}\n",
            " {'text': 'Egyptian activist-actress Amal Fathy has been given a sentence of two years on charges of \"spreading false news\" for uploading a video on Facebook, wherein she alleged that she faced sexual harassment at a bank. Fathy was charged with \"disseminating a video on social media to publicly incite overthrowing the government\". She has already spent over 140 days in prison.', 'summary': 'Amal Fathy sentenced to 2 years for spreading false news.'}\n",
            " {'text': \"World's richest person and Amazon CEO Jeff Bezos added $32.6 billion to his wealth in 2017, which is higher than the GDP of 93 countries according to figures from IMF. It is also more than the combined GDP for one year of 28 countries. Bezos' net worth is currently $106 billion after Amazon shares surged by over 6% this year.\", 'summary': \"Jeff Bezos' net worth surges to $106 billion.\"}\n",
            " {'text': \"Bangladesh cricket team's limited overs captain Mashrafe Mortaza on Tuesday announced that he will retire from T20 international cricket after the end of the series against Sri Lanka. The 33-year-old pace bowler has featured in 52 T20I matches for his nation so far, picking up 39 wickets and registering 368 runs at an average of 13.62.\", 'summary': \"Bangladesh's Mashrafe Mortaza to retire from T20 cricket.\"}\n",
            " {'text': \"Mexican drug lord Joaquin 'El Chapo' Guzman has claimed that his extradition to US from Mexico violated the terms of a US-Mexico treaty. According to the terms, Guzman had to be transferred to either California or Texas, however, on the day of his extradition, Mexico waived the terms and consented instead to send him to New York, Guzman's lawyers said.\", 'summary': \"Joaquin 'El Chapo' Guzman claims US-Mexico treaty was waived.\"}\n",
            " {'text': \"Independent United Nations (UN) monitors have accused North Korea of supplying ballistic missile systems along with conventional weapons including rocket launchers and surface-to-air missiles to Myanmar. In a report to the UN Security Council's sanctions committee, the monitors also accused North Korea of supplying weapons to Syria and violating UN sanctions by exporting banned commodities. \", 'summary': 'North Korea supplies Myanmar with ballistic missiles.'}\n",
            " {'text': 'After reports of three Amrapali Group companies going into insolvency surfaced, several home buyers slammed cricketer Harbhajan Singh, who was once the brand ambassador of the company. A user claimed that Harbhajan and MS Dhoni had received free flats from the company while he lost his money. Harbhajan responded saying even he was made a fool by the company.', 'summary': 'Cricketer Harbhajan Singh responds to Amrapali Group insolvency claims.'}]\n",
            "[{'text': 'Students in Karnataka will get extra marks if their parents cast votes in the upcoming assembly elections, the Associated Management of Primary and Secondary Schools has announced. The \"Encouraging Marks\" will be added in the 2018-19 academic year. The association said, \"After casting their votes, parents can visit member schools...and confirm that they voted by showing the indelible ink mark.\"', 'summary': 'Students in Karnataka to receive extra marks for parental voting.'}\n",
            " {'text': \"Syrian anti-aircraft defences on Monday shot down missiles over two air bases, Syria's state media said. The missiles targeted Shayrat air base in the Homs province and another base northeast of the capital Damascus. This comes days after the US, UK and France launched air strikes on Syrian chemical weapons facilities in retaliation for the alleged chemical attack in Douma.\", 'summary': \"Syria's airbases targeted by missiles in retaliation for Douma attack.\"}\n",
            " {'text': \"A Dinosaur-like creature's fossil was found during an excavation on Sunday in Uttarakhand's Jaspur, a small city 110 km from Nainital. The fossil's hind legs measure around 29 cm while the tail is around 5 cm long. Found at an abandoned electricity department land, the authorities would be sending the remains to Dehradun-based Wildlife Institute of India for further investigation.\", 'summary': 'Dinosaur fossil found in Uttarakhand, sent to Wildlife Institute.'}\n",
            " {'text': \"The Uttar Pradesh government is planning to form a 'UP Muslim Waqf Board' by merging the separate Shia and Sunni Waqf boards to prevent wastage of funds, Minister of State for Waqf Mohsin Raza said. The merged Waqf board will have members from both the communities and its Chairman will be selected from among them, he added. \", 'summary': 'UP Muslim Waqf Board to merge Shia and Sunni Waqf boards.'}\n",
            " {'text': 'Egyptian activist-actress Amal Fathy has been given a sentence of two years on charges of \"spreading false news\" for uploading a video on Facebook, wherein she alleged that she faced sexual harassment at a bank. Fathy was charged with \"disseminating a video on social media to publicly incite overthrowing the government\". She has already spent over 140 days in prison.', 'summary': 'Amal Fathy sentenced to 2 years for spreading false news.'}\n",
            " {'text': \"World's richest person and Amazon CEO Jeff Bezos added $32.6 billion to his wealth in 2017, which is higher than the GDP of 93 countries according to figures from IMF. It is also more than the combined GDP for one year of 28 countries. Bezos' net worth is currently $106 billion after Amazon shares surged by over 6% this year.\", 'summary': \"Jeff Bezos' net worth surges to $106 billion.\"}\n",
            " {'text': \"Bangladesh cricket team's limited overs captain Mashrafe Mortaza on Tuesday announced that he will retire from T20 international cricket after the end of the series against Sri Lanka. The 33-year-old pace bowler has featured in 52 T20I matches for his nation so far, picking up 39 wickets and registering 368 runs at an average of 13.62.\", 'summary': \"Bangladesh's Mashrafe Mortaza to retire from T20 cricket.\"}\n",
            " {'text': \"Mexican drug lord Joaquin 'El Chapo' Guzman has claimed that his extradition to US from Mexico violated the terms of a US-Mexico treaty. According to the terms, Guzman had to be transferred to either California or Texas, however, on the day of his extradition, Mexico waived the terms and consented instead to send him to New York, Guzman's lawyers said.\", 'summary': \"Joaquin 'El Chapo' Guzman claims US-Mexico treaty was waived.\"}\n",
            " {'text': \"Independent United Nations (UN) monitors have accused North Korea of supplying ballistic missile systems along with conventional weapons including rocket launchers and surface-to-air missiles to Myanmar. In a report to the UN Security Council's sanctions committee, the monitors also accused North Korea of supplying weapons to Syria and violating UN sanctions by exporting banned commodities. \", 'summary': 'North Korea supplies Myanmar with ballistic missiles.'}\n",
            " {'text': 'After reports of three Amrapali Group companies going into insolvency surfaced, several home buyers slammed cricketer Harbhajan Singh, who was once the brand ambassador of the company. A user claimed that Harbhajan and MS Dhoni had received free flats from the company while he lost his money. Harbhajan responded saying even he was made a fool by the company.', 'summary': 'Cricketer Harbhajan Singh responds to Amrapali Group insolvency claims.'}]\n",
            "[{'text': 'Students in Karnataka will get extra marks if their parents cast votes in the upcoming assembly elections, the Associated Management of Primary and Secondary Schools has announced. The \"Encouraging Marks\" will be added in the 2018-19 academic year. The association said, \"After casting their votes, parents can visit member schools...and confirm that they voted by showing the indelible ink mark.\"', 'summary': 'Students in Karnataka to receive extra marks for parental voting.'}\n",
            " {'text': \"Syrian anti-aircraft defences on Monday shot down missiles over two air bases, Syria's state media said. The missiles targeted Shayrat air base in the Homs province and another base northeast of the capital Damascus. This comes days after the US, UK and France launched air strikes on Syrian chemical weapons facilities in retaliation for the alleged chemical attack in Douma.\", 'summary': \"Syria's airbases targeted by missiles in retaliation for Douma attack.\"}\n",
            " {'text': \"A Dinosaur-like creature's fossil was found during an excavation on Sunday in Uttarakhand's Jaspur, a small city 110 km from Nainital. The fossil's hind legs measure around 29 cm while the tail is around 5 cm long. Found at an abandoned electricity department land, the authorities would be sending the remains to Dehradun-based Wildlife Institute of India for further investigation.\", 'summary': 'Dinosaur fossil found in Uttarakhand, sent to Wildlife Institute.'}\n",
            " {'text': \"The Uttar Pradesh government is planning to form a 'UP Muslim Waqf Board' by merging the separate Shia and Sunni Waqf boards to prevent wastage of funds, Minister of State for Waqf Mohsin Raza said. The merged Waqf board will have members from both the communities and its Chairman will be selected from among them, he added. \", 'summary': 'UP Muslim Waqf Board to merge Shia and Sunni Waqf boards.'}\n",
            " {'text': 'Egyptian activist-actress Amal Fathy has been given a sentence of two years on charges of \"spreading false news\" for uploading a video on Facebook, wherein she alleged that she faced sexual harassment at a bank. Fathy was charged with \"disseminating a video on social media to publicly incite overthrowing the government\". She has already spent over 140 days in prison.', 'summary': 'Amal Fathy sentenced to 2 years for spreading false news.'}\n",
            " {'text': \"World's richest person and Amazon CEO Jeff Bezos added $32.6 billion to his wealth in 2017, which is higher than the GDP of 93 countries according to figures from IMF. It is also more than the combined GDP for one year of 28 countries. Bezos' net worth is currently $106 billion after Amazon shares surged by over 6% this year.\", 'summary': \"Jeff Bezos' net worth surges to $106 billion.\"}\n",
            " {'text': \"Bangladesh cricket team's limited overs captain Mashrafe Mortaza on Tuesday announced that he will retire from T20 international cricket after the end of the series against Sri Lanka. The 33-year-old pace bowler has featured in 52 T20I matches for his nation so far, picking up 39 wickets and registering 368 runs at an average of 13.62.\", 'summary': \"Bangladesh's Mashrafe Mortaza to retire from T20 cricket.\"}\n",
            " {'text': \"Mexican drug lord Joaquin 'El Chapo' Guzman has claimed that his extradition to US from Mexico violated the terms of a US-Mexico treaty. According to the terms, Guzman had to be transferred to either California or Texas, however, on the day of his extradition, Mexico waived the terms and consented instead to send him to New York, Guzman's lawyers said.\", 'summary': \"Joaquin 'El Chapo' Guzman claims US-Mexico treaty was waived.\"}\n",
            " {'text': \"Independent United Nations (UN) monitors have accused North Korea of supplying ballistic missile systems along with conventional weapons including rocket launchers and surface-to-air missiles to Myanmar. In a report to the UN Security Council's sanctions committee, the monitors also accused North Korea of supplying weapons to Syria and violating UN sanctions by exporting banned commodities. \", 'summary': 'North Korea supplies Myanmar with ballistic missiles.'}\n",
            " {'text': 'After reports of three Amrapali Group companies going into insolvency surfaced, several home buyers slammed cricketer Harbhajan Singh, who was once the brand ambassador of the company. A user claimed that Harbhajan and MS Dhoni had received free flats from the company while he lost his money. Harbhajan responded saying even he was made a fool by the company.', 'summary': 'Cricketer Harbhajan Singh responds to Amrapali Group insolvency claims.'}]\n",
            "[{'text': 'Students in Karnataka will get extra marks if their parents cast votes in the upcoming assembly elections, the Associated Management of Primary and Secondary Schools has announced. The \"Encouraging Marks\" will be added in the 2018-19 academic year. The association said, \"After casting their votes, parents can visit member schools...and confirm that they voted by showing the indelible ink mark.\"', 'summary': 'Students in Karnataka to receive extra marks for parental voting.'}\n",
            " {'text': \"Syrian anti-aircraft defences on Monday shot down missiles over two air bases, Syria's state media said. The missiles targeted Shayrat air base in the Homs province and another base northeast of the capital Damascus. This comes days after the US, UK and France launched air strikes on Syrian chemical weapons facilities in retaliation for the alleged chemical attack in Douma.\", 'summary': \"Syria's airbases targeted by missiles in retaliation for Douma attack.\"}\n",
            " {'text': \"A Dinosaur-like creature's fossil was found during an excavation on Sunday in Uttarakhand's Jaspur, a small city 110 km from Nainital. The fossil's hind legs measure around 29 cm while the tail is around 5 cm long. Found at an abandoned electricity department land, the authorities would be sending the remains to Dehradun-based Wildlife Institute of India for further investigation.\", 'summary': 'Dinosaur fossil found in Uttarakhand, sent to Wildlife Institute.'}\n",
            " {'text': \"The Uttar Pradesh government is planning to form a 'UP Muslim Waqf Board' by merging the separate Shia and Sunni Waqf boards to prevent wastage of funds, Minister of State for Waqf Mohsin Raza said. The merged Waqf board will have members from both the communities and its Chairman will be selected from among them, he added. \", 'summary': 'UP Muslim Waqf Board to merge Shia and Sunni Waqf boards.'}\n",
            " {'text': 'Egyptian activist-actress Amal Fathy has been given a sentence of two years on charges of \"spreading false news\" for uploading a video on Facebook, wherein she alleged that she faced sexual harassment at a bank. Fathy was charged with \"disseminating a video on social media to publicly incite overthrowing the government\". She has already spent over 140 days in prison.', 'summary': 'Amal Fathy sentenced to 2 years for spreading false news.'}\n",
            " {'text': \"World's richest person and Amazon CEO Jeff Bezos added $32.6 billion to his wealth in 2017, which is higher than the GDP of 93 countries according to figures from IMF. It is also more than the combined GDP for one year of 28 countries. Bezos' net worth is currently $106 billion after Amazon shares surged by over 6% this year.\", 'summary': \"Jeff Bezos' net worth surges to $106 billion.\"}\n",
            " {'text': \"Bangladesh cricket team's limited overs captain Mashrafe Mortaza on Tuesday announced that he will retire from T20 international cricket after the end of the series against Sri Lanka. The 33-year-old pace bowler has featured in 52 T20I matches for his nation so far, picking up 39 wickets and registering 368 runs at an average of 13.62.\", 'summary': \"Bangladesh's Mashrafe Mortaza to retire from T20 cricket.\"}\n",
            " {'text': \"Mexican drug lord Joaquin 'El Chapo' Guzman has claimed that his extradition to US from Mexico violated the terms of a US-Mexico treaty. According to the terms, Guzman had to be transferred to either California or Texas, however, on the day of his extradition, Mexico waived the terms and consented instead to send him to New York, Guzman's lawyers said.\", 'summary': \"Joaquin 'El Chapo' Guzman claims US-Mexico treaty was waived.\"}\n",
            " {'text': \"Independent United Nations (UN) monitors have accused North Korea of supplying ballistic missile systems along with conventional weapons including rocket launchers and surface-to-air missiles to Myanmar. In a report to the UN Security Council's sanctions committee, the monitors also accused North Korea of supplying weapons to Syria and violating UN sanctions by exporting banned commodities. \", 'summary': 'North Korea supplies Myanmar with ballistic missiles.'}\n",
            " {'text': 'After reports of three Amrapali Group companies going into insolvency surfaced, several home buyers slammed cricketer Harbhajan Singh, who was once the brand ambassador of the company. A user claimed that Harbhajan and MS Dhoni had received free flats from the company while he lost his money. Harbhajan responded saying even he was made a fool by the company.', 'summary': 'Cricketer Harbhajan Singh responds to Amrapali Group insolvency claims.'}]\n",
            "[{'text': 'Students in Karnataka will get extra marks if their parents cast votes in the upcoming assembly elections, the Associated Management of Primary and Secondary Schools has announced. The \"Encouraging Marks\" will be added in the 2018-19 academic year. The association said, \"After casting their votes, parents can visit member schools...and confirm that they voted by showing the indelible ink mark.\"', 'summary': 'Students in Karnataka to receive extra marks for parental voting.'}\n",
            " {'text': \"Syrian anti-aircraft defences on Monday shot down missiles over two air bases, Syria's state media said. The missiles targeted Shayrat air base in the Homs province and another base northeast of the capital Damascus. This comes days after the US, UK and France launched air strikes on Syrian chemical weapons facilities in retaliation for the alleged chemical attack in Douma.\", 'summary': \"Syria's airbases targeted by missiles in retaliation for Douma attack.\"}\n",
            " {'text': \"A Dinosaur-like creature's fossil was found during an excavation on Sunday in Uttarakhand's Jaspur, a small city 110 km from Nainital. The fossil's hind legs measure around 29 cm while the tail is around 5 cm long. Found at an abandoned electricity department land, the authorities would be sending the remains to Dehradun-based Wildlife Institute of India for further investigation.\", 'summary': 'Dinosaur fossil found in Uttarakhand, sent to Wildlife Institute.'}\n",
            " {'text': \"The Uttar Pradesh government is planning to form a 'UP Muslim Waqf Board' by merging the separate Shia and Sunni Waqf boards to prevent wastage of funds, Minister of State for Waqf Mohsin Raza said. The merged Waqf board will have members from both the communities and its Chairman will be selected from among them, he added. \", 'summary': 'UP Muslim Waqf Board to merge Shia and Sunni Waqf boards.'}\n",
            " {'text': 'Egyptian activist-actress Amal Fathy has been given a sentence of two years on charges of \"spreading false news\" for uploading a video on Facebook, wherein she alleged that she faced sexual harassment at a bank. Fathy was charged with \"disseminating a video on social media to publicly incite overthrowing the government\". She has already spent over 140 days in prison.', 'summary': 'Amal Fathy sentenced to 2 years for spreading false news.'}\n",
            " {'text': \"World's richest person and Amazon CEO Jeff Bezos added $32.6 billion to his wealth in 2017, which is higher than the GDP of 93 countries according to figures from IMF. It is also more than the combined GDP for one year of 28 countries. Bezos' net worth is currently $106 billion after Amazon shares surged by over 6% this year.\", 'summary': \"Jeff Bezos' net worth surges to $106 billion.\"}\n",
            " {'text': \"Bangladesh cricket team's limited overs captain Mashrafe Mortaza on Tuesday announced that he will retire from T20 international cricket after the end of the series against Sri Lanka. The 33-year-old pace bowler has featured in 52 T20I matches for his nation so far, picking up 39 wickets and registering 368 runs at an average of 13.62.\", 'summary': \"Bangladesh's Mashrafe Mortaza to retire from T20 cricket.\"}\n",
            " {'text': \"Mexican drug lord Joaquin 'El Chapo' Guzman has claimed that his extradition to US from Mexico violated the terms of a US-Mexico treaty. According to the terms, Guzman had to be transferred to either California or Texas, however, on the day of his extradition, Mexico waived the terms and consented instead to send him to New York, Guzman's lawyers said.\", 'summary': \"Joaquin 'El Chapo' Guzman claims US-Mexico treaty was waived.\"}\n",
            " {'text': \"Independent United Nations (UN) monitors have accused North Korea of supplying ballistic missile systems along with conventional weapons including rocket launchers and surface-to-air missiles to Myanmar. In a report to the UN Security Council's sanctions committee, the monitors also accused North Korea of supplying weapons to Syria and violating UN sanctions by exporting banned commodities. \", 'summary': 'North Korea supplies Myanmar with ballistic missiles.'}\n",
            " {'text': 'After reports of three Amrapali Group companies going into insolvency surfaced, several home buyers slammed cricketer Harbhajan Singh, who was once the brand ambassador of the company. A user claimed that Harbhajan and MS Dhoni had received free flats from the company while he lost his money. Harbhajan responded saying even he was made a fool by the company.', 'summary': 'Cricketer Harbhajan Singh responds to Amrapali Group insolvency claims.'}]\n",
            "[{'text': 'Students in Karnataka will get extra marks if their parents cast votes in the upcoming assembly elections, the Associated Management of Primary and Secondary Schools has announced. The \"Encouraging Marks\" will be added in the 2018-19 academic year. The association said, \"After casting their votes, parents can visit member schools...and confirm that they voted by showing the indelible ink mark.\"', 'summary': 'Students in Karnataka to receive extra marks for parental voting.'}\n",
            " {'text': \"Syrian anti-aircraft defences on Monday shot down missiles over two air bases, Syria's state media said. The missiles targeted Shayrat air base in the Homs province and another base northeast of the capital Damascus. This comes days after the US, UK and France launched air strikes on Syrian chemical weapons facilities in retaliation for the alleged chemical attack in Douma.\", 'summary': \"Syria's airbases targeted by missiles in retaliation for Douma attack.\"}\n",
            " {'text': \"A Dinosaur-like creature's fossil was found during an excavation on Sunday in Uttarakhand's Jaspur, a small city 110 km from Nainital. The fossil's hind legs measure around 29 cm while the tail is around 5 cm long. Found at an abandoned electricity department land, the authorities would be sending the remains to Dehradun-based Wildlife Institute of India for further investigation.\", 'summary': 'Dinosaur fossil found in Uttarakhand, sent to Wildlife Institute.'}\n",
            " {'text': \"The Uttar Pradesh government is planning to form a 'UP Muslim Waqf Board' by merging the separate Shia and Sunni Waqf boards to prevent wastage of funds, Minister of State for Waqf Mohsin Raza said. The merged Waqf board will have members from both the communities and its Chairman will be selected from among them, he added. \", 'summary': 'UP Muslim Waqf Board to merge Shia and Sunni Waqf boards.'}\n",
            " {'text': 'Egyptian activist-actress Amal Fathy has been given a sentence of two years on charges of \"spreading false news\" for uploading a video on Facebook, wherein she alleged that she faced sexual harassment at a bank. Fathy was charged with \"disseminating a video on social media to publicly incite overthrowing the government\". She has already spent over 140 days in prison.', 'summary': 'Amal Fathy sentenced to 2 years for spreading false news.'}\n",
            " {'text': \"World's richest person and Amazon CEO Jeff Bezos added $32.6 billion to his wealth in 2017, which is higher than the GDP of 93 countries according to figures from IMF. It is also more than the combined GDP for one year of 28 countries. Bezos' net worth is currently $106 billion after Amazon shares surged by over 6% this year.\", 'summary': \"Jeff Bezos' net worth surges to $106 billion.\"}\n",
            " {'text': \"Bangladesh cricket team's limited overs captain Mashrafe Mortaza on Tuesday announced that he will retire from T20 international cricket after the end of the series against Sri Lanka. The 33-year-old pace bowler has featured in 52 T20I matches for his nation so far, picking up 39 wickets and registering 368 runs at an average of 13.62.\", 'summary': \"Bangladesh's Mashrafe Mortaza to retire from T20 cricket.\"}\n",
            " {'text': \"Mexican drug lord Joaquin 'El Chapo' Guzman has claimed that his extradition to US from Mexico violated the terms of a US-Mexico treaty. According to the terms, Guzman had to be transferred to either California or Texas, however, on the day of his extradition, Mexico waived the terms and consented instead to send him to New York, Guzman's lawyers said.\", 'summary': \"Joaquin 'El Chapo' Guzman claims US-Mexico treaty was waived.\"}\n",
            " {'text': \"Independent United Nations (UN) monitors have accused North Korea of supplying ballistic missile systems along with conventional weapons including rocket launchers and surface-to-air missiles to Myanmar. In a report to the UN Security Council's sanctions committee, the monitors also accused North Korea of supplying weapons to Syria and violating UN sanctions by exporting banned commodities. \", 'summary': 'North Korea supplies Myanmar with ballistic missiles.'}\n",
            " {'text': 'After reports of three Amrapali Group companies going into insolvency surfaced, several home buyers slammed cricketer Harbhajan Singh, who was once the brand ambassador of the company. A user claimed that Harbhajan and MS Dhoni had received free flats from the company while he lost his money. Harbhajan responded saying even he was made a fool by the company.', 'summary': 'Cricketer Harbhajan Singh responds to Amrapali Group insolvency claims.'}]\n",
            "17.2 ms ± 3.39 ms per loop (mean ± std. dev. of 7 runs, 1 loop each)\n"
          ]
        }
      ]
    },
    {
      "cell_type": "markdown",
      "source": [
        "## Giskard Red Team Scan"
      ],
      "metadata": {
        "id": "gzXPuwF9raza"
      }
    },
    {
      "cell_type": "markdown",
      "source": [
        "### Setup Groq LLM Client"
      ],
      "metadata": {
        "id": "XwAA4c7mrhPF"
      }
    },
    {
      "cell_type": "code",
      "source": [
        "# def my_custom_llm(prompt):\n",
        "#     # Implement the API call to Groq here\n",
        "#     chat = ChatGroq(\n",
        "#         temperature=0.2,\n",
        "#         groq_api_key=GROQ_API_KEY,\n",
        "#         model_name=\"llama-3.2-1b-preview\"\n",
        "#     )\n",
        "\n",
        "#     response = call_groq_api(prompt)  # Replace with actual API call logic\n",
        "#     return response"
      ],
      "metadata": {
        "id": "M1uGE3Cev5jM"
      },
      "execution_count": null,
      "outputs": []
    },
    {
      "cell_type": "code",
      "source": [
        "def call_groq_api(prompt):\n",
        "    \"\"\"\n",
        "    Calls the Groq API to generate a chat completion.\n",
        "    \"\"\"\n",
        "    client = Groq(api_key=GROQ_API_KEY)  # Use your Groq API key\n",
        "\n",
        "    try:\n",
        "        chat_completion = client.chat.completions.create(\n",
        "            messages=[\n",
        "                {\"role\": \"user\", \"content\": prompt}\n",
        "            ],\n",
        "            model=\"llama-3.2-1b-preview\",  # Or another supported model\n",
        "        )\n",
        "\n",
        "        # Return the generated conten\n",
        "        return chat_completion.choices[0].message.content\n",
        "    except Exception as e:\n",
        "        print(f\"Error during Groq API call: {e}\")\n",
        "        return None"
      ],
      "metadata": {
        "id": "Zd5PnH8ixSxg"
      },
      "execution_count": null,
      "outputs": []
    },
    {
      "cell_type": "code",
      "source": [
        "giskard.llm.custom_provider_map = [\n",
        "    {\"provider\": \"groq\", \"custom_handler\": call_groq_api}\n",
        "]"
      ],
      "metadata": {
        "id": "I9X_QBwctcgK"
      },
      "execution_count": null,
      "outputs": []
    },
    {
      "cell_type": "code",
      "source": [
        "giskard.llm.set_llm_model(\"groq/llama-3.2-1b-preview\")"
      ],
      "metadata": {
        "id": "nk6tHbhY1wmF"
      },
      "execution_count": null,
      "outputs": []
    },
    {
      "cell_type": "code",
      "source": [],
      "metadata": {
        "id": "bNxJEw6G2YLl"
      },
      "execution_count": null,
      "outputs": []
    },
    {
      "cell_type": "code",
      "source": [
        "from .groqClient import GroqClient"
      ],
      "metadata": {
        "id": "qNXo9PL72YSJ",
        "outputId": "a4120e4a-8864-4e36-ce37-7b89c32242e3",
        "colab": {
          "base_uri": "https://localhost:8080/",
          "height": 324
        }
      },
      "execution_count": null,
      "outputs": [
        {
          "output_type": "error",
          "ename": "ImportError",
          "evalue": "attempted relative import with no known parent package",
          "traceback": [
            "\u001b[0;31m---------------------------------------------------------------------------\u001b[0m",
            "\u001b[0;31mImportError\u001b[0m                               Traceback (most recent call last)",
            "\u001b[0;32m<ipython-input-44-942c1a24ca5e>\u001b[0m in \u001b[0;36m<cell line: 0>\u001b[0;34m()\u001b[0m\n\u001b[0;32m----> 1\u001b[0;31m \u001b[0;32mfrom\u001b[0m \u001b[0;34m.\u001b[0m\u001b[0mgroqClient\u001b[0m \u001b[0;32mimport\u001b[0m \u001b[0mGroqClient\u001b[0m\u001b[0;34m\u001b[0m\u001b[0;34m\u001b[0m\u001b[0m\n\u001b[0m",
            "\u001b[0;31mImportError\u001b[0m: attempted relative import with no known parent package",
            "",
            "\u001b[0;31m---------------------------------------------------------------------------\u001b[0;32m\nNOTE: If your import is failing due to a missing package, you can\nmanually install dependencies using either !pip or !apt.\n\nTo view examples of installing some common dependencies, click the\n\"Open Examples\" button below.\n\u001b[0;31m---------------------------------------------------------------------------\u001b[0m\n"
          ],
          "errorDetails": {
            "actions": [
              {
                "action": "open_url",
                "actionText": "Open Examples",
                "url": "/notebooks/snippets/importing_libraries.ipynb"
              }
            ]
          }
        }
      ]
    },
    {
      "cell_type": "code",
      "source": [],
      "metadata": {
        "id": "2k2DAnU02YX6"
      },
      "execution_count": null,
      "outputs": []
    },
    {
      "cell_type": "markdown",
      "source": [
        "### Scan"
      ],
      "metadata": {
        "id": "Rn1GfQxprmXI"
      }
    },
    {
      "cell_type": "code",
      "source": [
        "# Display options.\n",
        "pd.set_option(\"display.max_colwidth\", None)"
      ],
      "metadata": {
        "id": "hds9QZySrAlc"
      },
      "execution_count": null,
      "outputs": []
    },
    {
      "cell_type": "code",
      "source": [
        "results = scan(giskard_model)"
      ],
      "metadata": {
        "colab": {
          "base_uri": "https://localhost:8080/",
          "height": 1000
        },
        "id": "iZ6f_9PM11Gs",
        "outputId": "91ffa64e-75ae-499e-c787-5d5b84fb018d"
      },
      "execution_count": null,
      "outputs": [
        {
          "output_type": "stream",
          "name": "stderr",
          "text": [
            "INFO:LiteLLM:\n",
            "LiteLLM completion() model= llama-3.2-1b-preview; provider = groq\n"
          ]
        },
        {
          "output_type": "stream",
          "name": "stdout",
          "text": [
            "\n",
            "\u001b[1;31mGive Feedback / Get Help: https://github.com/BerriAI/litellm/issues/new\u001b[0m\n",
            "LiteLLM.Info: If you need to debug this error, use `litellm.set_verbose=True'.\n",
            "\n",
            "\n",
            "\u001b[1;31mProvider List: https://docs.litellm.ai/docs/providers\u001b[0m\n",
            "\n"
          ]
        },
        {
          "output_type": "error",
          "ename": "AuthenticationError",
          "evalue": "litellm.AuthenticationError: AuthenticationError: GroqException - The api_key client option must be set either by passing api_key to the client or by setting the GROQ_API_KEY environment variable",
          "traceback": [
            "\u001b[0;31m---------------------------------------------------------------------------\u001b[0m",
            "\u001b[0;31mOpenAIError\u001b[0m                               Traceback (most recent call last)",
            "\u001b[0;32m/usr/local/lib/python3.11/dist-packages/litellm/llms/OpenAI/openai.py\u001b[0m in \u001b[0;36mcompletion\u001b[0;34m(self, model_response, timeout, optional_params, logging_obj, model, messages, print_verbose, api_key, api_base, acompletion, litellm_params, logger_fn, headers, custom_prompt_dict, client, organization, custom_llm_provider, drop_params)\u001b[0m\n\u001b[1;32m    853\u001b[0m                     \u001b[0;32melse\u001b[0m\u001b[0;34m:\u001b[0m\u001b[0;34m\u001b[0m\u001b[0;34m\u001b[0m\u001b[0m\n\u001b[0;32m--> 854\u001b[0;31m                         \u001b[0;32mraise\u001b[0m \u001b[0me\u001b[0m\u001b[0;34m\u001b[0m\u001b[0;34m\u001b[0m\u001b[0m\n\u001b[0m\u001b[1;32m    855\u001b[0m         \u001b[0;32mexcept\u001b[0m \u001b[0mOpenAIError\u001b[0m \u001b[0;32mas\u001b[0m \u001b[0me\u001b[0m\u001b[0;34m:\u001b[0m\u001b[0;34m\u001b[0m\u001b[0;34m\u001b[0m\u001b[0m\n",
            "\u001b[0;32m/usr/local/lib/python3.11/dist-packages/litellm/llms/OpenAI/openai.py\u001b[0m in \u001b[0;36mcompletion\u001b[0;34m(self, model_response, timeout, optional_params, logging_obj, model, messages, print_verbose, api_key, api_base, acompletion, litellm_params, logger_fn, headers, custom_prompt_dict, client, organization, custom_llm_provider, drop_params)\u001b[0m\n\u001b[1;32m    766\u001b[0m \u001b[0;34m\u001b[0m\u001b[0m\n\u001b[0;32m--> 767\u001b[0;31m                         openai_client: OpenAI = self._get_openai_client(  # type: ignore\n\u001b[0m\u001b[1;32m    768\u001b[0m                             \u001b[0mis_async\u001b[0m\u001b[0;34m=\u001b[0m\u001b[0;32mFalse\u001b[0m\u001b[0;34m,\u001b[0m\u001b[0;34m\u001b[0m\u001b[0;34m\u001b[0m\u001b[0m\n",
            "\u001b[0;32m/usr/local/lib/python3.11/dist-packages/litellm/llms/OpenAI/openai.py\u001b[0m in \u001b[0;36m_get_openai_client\u001b[0;34m(self, is_async, api_key, api_base, timeout, max_retries, organization, client)\u001b[0m\n\u001b[1;32m    574\u001b[0m             \u001b[0;32melse\u001b[0m\u001b[0;34m:\u001b[0m\u001b[0;34m\u001b[0m\u001b[0;34m\u001b[0m\u001b[0m\n\u001b[0;32m--> 575\u001b[0;31m                 _new_client = OpenAI(\n\u001b[0m\u001b[1;32m    576\u001b[0m                     \u001b[0mapi_key\u001b[0m\u001b[0;34m=\u001b[0m\u001b[0mapi_key\u001b[0m\u001b[0;34m,\u001b[0m\u001b[0;34m\u001b[0m\u001b[0;34m\u001b[0m\u001b[0m\n",
            "\u001b[0;32m/usr/local/lib/python3.11/dist-packages/openai/_client.py\u001b[0m in \u001b[0;36m__init__\u001b[0;34m(self, api_key, organization, project, base_url, websocket_base_url, timeout, max_retries, default_headers, default_query, http_client, _strict_response_validation)\u001b[0m\n\u001b[1;32m    109\u001b[0m         \u001b[0;32mif\u001b[0m \u001b[0mapi_key\u001b[0m \u001b[0;32mis\u001b[0m \u001b[0;32mNone\u001b[0m\u001b[0;34m:\u001b[0m\u001b[0;34m\u001b[0m\u001b[0;34m\u001b[0m\u001b[0m\n\u001b[0;32m--> 110\u001b[0;31m             raise OpenAIError(\n\u001b[0m\u001b[1;32m    111\u001b[0m                 \u001b[0;34m\"The api_key client option must be set either by passing api_key to the client or by setting the OPENAI_API_KEY environment variable\"\u001b[0m\u001b[0;34m\u001b[0m\u001b[0;34m\u001b[0m\u001b[0m\n",
            "\u001b[0;31mOpenAIError\u001b[0m: The api_key client option must be set either by passing api_key to the client or by setting the OPENAI_API_KEY environment variable",
            "\nDuring handling of the above exception, another exception occurred:\n",
            "\u001b[0;31mOpenAIError\u001b[0m                               Traceback (most recent call last)",
            "\u001b[0;32m/usr/local/lib/python3.11/dist-packages/litellm/main.py\u001b[0m in \u001b[0;36mcompletion\u001b[0;34m(model, messages, timeout, temperature, top_p, n, stream, stream_options, stop, max_completion_tokens, max_tokens, modalities, audio, presence_penalty, frequency_penalty, logit_bias, user, response_format, seed, tools, tool_choice, logprobs, top_logprobs, parallel_tool_calls, deployment_id, extra_headers, functions, function_call, base_url, api_version, api_key, model_list, **kwargs)\u001b[0m\n\u001b[1;32m   1473\u001b[0m \u001b[0;34m\u001b[0m\u001b[0m\n\u001b[0;32m-> 1474\u001b[0;31m             response = groq_chat_completions.completion(\n\u001b[0m\u001b[1;32m   1475\u001b[0m                 \u001b[0mmodel\u001b[0m\u001b[0;34m=\u001b[0m\u001b[0mmodel\u001b[0m\u001b[0;34m,\u001b[0m\u001b[0;34m\u001b[0m\u001b[0;34m\u001b[0m\u001b[0m\n",
            "\u001b[0;32m/usr/local/lib/python3.11/dist-packages/litellm/llms/groq/chat/handler.py\u001b[0m in \u001b[0;36mcompletion\u001b[0;34m(self, model_response, timeout, optional_params, logging_obj, model, messages, print_verbose, api_key, api_base, acompletion, litellm_params, logger_fn, headers, custom_prompt_dict, client, organization, custom_llm_provider, drop_params)\u001b[0m\n\u001b[1;32m     40\u001b[0m         \u001b[0mmessages\u001b[0m \u001b[0;34m=\u001b[0m \u001b[0mGroqChatConfig\u001b[0m\u001b[0;34m(\u001b[0m\u001b[0;34m)\u001b[0m\u001b[0;34m.\u001b[0m\u001b[0m_transform_messages\u001b[0m\u001b[0;34m(\u001b[0m\u001b[0mmessages\u001b[0m\u001b[0;34m)\u001b[0m  \u001b[0;31m# type: ignore\u001b[0m\u001b[0;34m\u001b[0m\u001b[0;34m\u001b[0m\u001b[0m\n\u001b[0;32m---> 41\u001b[0;31m         return super().completion(\n\u001b[0m\u001b[1;32m     42\u001b[0m             \u001b[0mmodel_response\u001b[0m\u001b[0;34m,\u001b[0m\u001b[0;34m\u001b[0m\u001b[0;34m\u001b[0m\u001b[0m\n",
            "\u001b[0;32m/usr/local/lib/python3.11/dist-packages/litellm/llms/OpenAI/openai.py\u001b[0m in \u001b[0;36mcompletion\u001b[0;34m(self, model_response, timeout, optional_params, logging_obj, model, messages, print_verbose, api_key, api_base, acompletion, litellm_params, logger_fn, headers, custom_prompt_dict, client, organization, custom_llm_provider, drop_params)\u001b[0m\n\u001b[1;32m    863\u001b[0m                 \u001b[0merror_headers\u001b[0m \u001b[0;34m=\u001b[0m \u001b[0mgetattr\u001b[0m\u001b[0;34m(\u001b[0m\u001b[0merror_response\u001b[0m\u001b[0;34m,\u001b[0m \u001b[0;34m\"headers\"\u001b[0m\u001b[0;34m,\u001b[0m \u001b[0;32mNone\u001b[0m\u001b[0;34m)\u001b[0m\u001b[0;34m\u001b[0m\u001b[0;34m\u001b[0m\u001b[0m\n\u001b[0;32m--> 864\u001b[0;31m             raise OpenAIError(\n\u001b[0m\u001b[1;32m    865\u001b[0m                 \u001b[0mstatus_code\u001b[0m\u001b[0;34m=\u001b[0m\u001b[0mstatus_code\u001b[0m\u001b[0;34m,\u001b[0m \u001b[0mmessage\u001b[0m\u001b[0;34m=\u001b[0m\u001b[0merror_text\u001b[0m\u001b[0;34m,\u001b[0m \u001b[0mheaders\u001b[0m\u001b[0;34m=\u001b[0m\u001b[0merror_headers\u001b[0m\u001b[0;34m\u001b[0m\u001b[0;34m\u001b[0m\u001b[0m\n",
            "\u001b[0;31mOpenAIError\u001b[0m: The api_key client option must be set either by passing api_key to the client or by setting the OPENAI_API_KEY environment variable",
            "\nDuring handling of the above exception, another exception occurred:\n",
            "\u001b[0;31mAuthenticationError\u001b[0m                       Traceback (most recent call last)",
            "\u001b[0;32m<ipython-input-43-756902bfb4f8>\u001b[0m in \u001b[0;36m<cell line: 0>\u001b[0;34m()\u001b[0m\n\u001b[0;32m----> 1\u001b[0;31m \u001b[0mresults\u001b[0m \u001b[0;34m=\u001b[0m \u001b[0mscan\u001b[0m\u001b[0;34m(\u001b[0m\u001b[0mgiskard_model\u001b[0m\u001b[0;34m)\u001b[0m\u001b[0;34m\u001b[0m\u001b[0;34m\u001b[0m\u001b[0m\n\u001b[0m",
            "\u001b[0;32m/usr/local/lib/python3.11/dist-packages/giskard/scanner/__init__.py\u001b[0m in \u001b[0;36mscan\u001b[0;34m(model, dataset, features, params, only, verbose, raise_exceptions, max_issues_per_detector)\u001b[0m\n\u001b[1;32m     65\u001b[0m     \"\"\"\n\u001b[1;32m     66\u001b[0m     \u001b[0mscanner\u001b[0m \u001b[0;34m=\u001b[0m \u001b[0mScanner\u001b[0m\u001b[0;34m(\u001b[0m\u001b[0mparams\u001b[0m\u001b[0;34m,\u001b[0m \u001b[0monly\u001b[0m\u001b[0;34m=\u001b[0m\u001b[0monly\u001b[0m\u001b[0;34m)\u001b[0m\u001b[0;34m\u001b[0m\u001b[0;34m\u001b[0m\u001b[0m\n\u001b[0;32m---> 67\u001b[0;31m     return scanner.analyze(\n\u001b[0m\u001b[1;32m     68\u001b[0m         \u001b[0mmodel\u001b[0m\u001b[0;34m,\u001b[0m\u001b[0;34m\u001b[0m\u001b[0;34m\u001b[0m\u001b[0m\n\u001b[1;32m     69\u001b[0m         \u001b[0mdataset\u001b[0m\u001b[0;34m=\u001b[0m\u001b[0mdataset\u001b[0m\u001b[0;34m,\u001b[0m\u001b[0;34m\u001b[0m\u001b[0;34m\u001b[0m\u001b[0m\n",
            "\u001b[0;32m/usr/local/lib/python3.11/dist-packages/giskard/scanner/scanner.py\u001b[0m in \u001b[0;36manalyze\u001b[0;34m(self, model, dataset, features, verbose, raise_exceptions, max_issues_per_detector)\u001b[0m\n\u001b[1;32m     99\u001b[0m         \u001b[0;32mwith\u001b[0m \u001b[0mTemporaryRootLogLevel\u001b[0m\u001b[0;34m(\u001b[0m\u001b[0mlogging\u001b[0m\u001b[0;34m.\u001b[0m\u001b[0mINFO\u001b[0m \u001b[0;32mif\u001b[0m \u001b[0mverbose\u001b[0m \u001b[0;32melse\u001b[0m \u001b[0mlogging\u001b[0m\u001b[0;34m.\u001b[0m\u001b[0mNOTSET\u001b[0m\u001b[0;34m)\u001b[0m\u001b[0;34m:\u001b[0m\u001b[0;34m\u001b[0m\u001b[0;34m\u001b[0m\u001b[0m\n\u001b[1;32m    100\u001b[0m             \u001b[0;31m# Check that the model and dataset were appropriately wrapped with Giskard\u001b[0m\u001b[0;34m\u001b[0m\u001b[0;34m\u001b[0m\u001b[0m\n\u001b[0;32m--> 101\u001b[0;31m             \u001b[0mmodel\u001b[0m\u001b[0;34m,\u001b[0m \u001b[0mdataset\u001b[0m\u001b[0;34m,\u001b[0m \u001b[0mmodel_validation_time\u001b[0m \u001b[0;34m=\u001b[0m \u001b[0mself\u001b[0m\u001b[0;34m.\u001b[0m\u001b[0m_validate_model_and_dataset\u001b[0m\u001b[0;34m(\u001b[0m\u001b[0mmodel\u001b[0m\u001b[0;34m,\u001b[0m \u001b[0mdataset\u001b[0m\u001b[0;34m)\u001b[0m\u001b[0;34m\u001b[0m\u001b[0;34m\u001b[0m\u001b[0m\n\u001b[0m\u001b[1;32m    102\u001b[0m \u001b[0;34m\u001b[0m\u001b[0m\n\u001b[1;32m    103\u001b[0m             \u001b[0;31m# Check that provided features are valid\u001b[0m\u001b[0;34m\u001b[0m\u001b[0;34m\u001b[0m\u001b[0m\n",
            "\u001b[0;32m/usr/local/lib/python3.11/dist-packages/giskard/scanner/scanner.py\u001b[0m in \u001b[0;36m_validate_model_and_dataset\u001b[0;34m(self, model, dataset)\u001b[0m\n\u001b[1;32m    218\u001b[0m             )\n\u001b[1;32m    219\u001b[0m \u001b[0;34m\u001b[0m\u001b[0m\n\u001b[0;32m--> 220\u001b[0;31m         \u001b[0mmodel\u001b[0m\u001b[0;34m,\u001b[0m \u001b[0mdataset\u001b[0m \u001b[0;34m=\u001b[0m \u001b[0mself\u001b[0m\u001b[0;34m.\u001b[0m\u001b[0m_prepare_model_dataset\u001b[0m\u001b[0;34m(\u001b[0m\u001b[0mmodel\u001b[0m\u001b[0;34m,\u001b[0m \u001b[0mdataset\u001b[0m\u001b[0;34m)\u001b[0m\u001b[0;34m\u001b[0m\u001b[0;34m\u001b[0m\u001b[0m\n\u001b[0m\u001b[1;32m    221\u001b[0m \u001b[0;34m\u001b[0m\u001b[0m\n\u001b[1;32m    222\u001b[0m         \u001b[0;32mif\u001b[0m \u001b[0;32mnot\u001b[0m \u001b[0mmodel\u001b[0m\u001b[0;34m.\u001b[0m\u001b[0mis_text_generation\u001b[0m\u001b[0;34m:\u001b[0m\u001b[0;34m\u001b[0m\u001b[0;34m\u001b[0m\u001b[0m\n",
            "\u001b[0;32m/usr/local/lib/python3.11/dist-packages/giskard/scanner/scanner.py\u001b[0m in \u001b[0;36m_prepare_model_dataset\u001b[0;34m(self, model, dataset)\u001b[0m\n\u001b[1;32m    277\u001b[0m             \u001b[0mlogger\u001b[0m\u001b[0;34m.\u001b[0m\u001b[0mdebug\u001b[0m\u001b[0;34m(\u001b[0m\u001b[0;34m\"Automatically generating test dataset.\"\u001b[0m\u001b[0;34m)\u001b[0m\u001b[0;34m\u001b[0m\u001b[0;34m\u001b[0m\u001b[0m\n\u001b[1;32m    278\u001b[0m             \u001b[0;32mtry\u001b[0m\u001b[0;34m:\u001b[0m\u001b[0;34m\u001b[0m\u001b[0;34m\u001b[0m\u001b[0m\n\u001b[0;32m--> 279\u001b[0;31m                 \u001b[0;32mreturn\u001b[0m \u001b[0mmodel\u001b[0m\u001b[0;34m,\u001b[0m \u001b[0mgenerate_test_dataset\u001b[0m\u001b[0;34m(\u001b[0m\u001b[0mmodel\u001b[0m\u001b[0;34m)\u001b[0m\u001b[0;34m\u001b[0m\u001b[0;34m\u001b[0m\u001b[0m\n\u001b[0m\u001b[1;32m    280\u001b[0m             \u001b[0;32mexcept\u001b[0m \u001b[0mLLMGenerationError\u001b[0m\u001b[0;34m:\u001b[0m\u001b[0;34m\u001b[0m\u001b[0;34m\u001b[0m\u001b[0m\n\u001b[1;32m    281\u001b[0m                 warning(\n",
            "\u001b[0;32m/usr/local/lib/python3.11/dist-packages/giskard/llm/utils.py\u001b[0m in \u001b[0;36mgenerate_test_dataset\u001b[0;34m(model, num_samples, temperature, column_types, llm_seed)\u001b[0m\n\u001b[1;32m     43\u001b[0m     \u001b[0mgenerator\u001b[0m \u001b[0;34m=\u001b[0m \u001b[0mSimpleDataGenerator\u001b[0m\u001b[0;34m(\u001b[0m\u001b[0mllm_temperature\u001b[0m\u001b[0;34m=\u001b[0m\u001b[0mtemperature\u001b[0m\u001b[0;34m,\u001b[0m \u001b[0mllm_seed\u001b[0m\u001b[0;34m=\u001b[0m\u001b[0mllm_seed\u001b[0m\u001b[0;34m)\u001b[0m\u001b[0;34m\u001b[0m\u001b[0;34m\u001b[0m\u001b[0m\n\u001b[1;32m     44\u001b[0m \u001b[0;34m\u001b[0m\u001b[0m\n\u001b[0;32m---> 45\u001b[0;31m     \u001b[0;32mreturn\u001b[0m \u001b[0mgenerator\u001b[0m\u001b[0;34m.\u001b[0m\u001b[0mgenerate_dataset\u001b[0m\u001b[0;34m(\u001b[0m\u001b[0mmodel\u001b[0m\u001b[0;34m,\u001b[0m \u001b[0mnum_samples\u001b[0m\u001b[0;34m,\u001b[0m \u001b[0mcolumn_types\u001b[0m\u001b[0;34m)\u001b[0m\u001b[0;34m\u001b[0m\u001b[0;34m\u001b[0m\u001b[0m\n\u001b[0m\u001b[1;32m     46\u001b[0m \u001b[0;34m\u001b[0m\u001b[0m\n\u001b[1;32m     47\u001b[0m \u001b[0;34m\u001b[0m\u001b[0m\n",
            "\u001b[0;32m/usr/local/lib/python3.11/dist-packages/giskard/llm/generators/base.py\u001b[0m in \u001b[0;36mgenerate_dataset\u001b[0;34m(self, model, num_samples, column_types)\u001b[0m\n\u001b[1;32m     62\u001b[0m         \u001b[0mmessages\u001b[0m \u001b[0;34m=\u001b[0m \u001b[0mself\u001b[0m\u001b[0;34m.\u001b[0m\u001b[0m_format_messages\u001b[0m\u001b[0;34m(\u001b[0m\u001b[0mmodel\u001b[0m\u001b[0;34m,\u001b[0m \u001b[0mnum_samples\u001b[0m\u001b[0;34m,\u001b[0m \u001b[0mcolumn_types\u001b[0m\u001b[0;34m)\u001b[0m\u001b[0;34m\u001b[0m\u001b[0;34m\u001b[0m\u001b[0m\n\u001b[1;32m     63\u001b[0m \u001b[0;34m\u001b[0m\u001b[0m\n\u001b[0;32m---> 64\u001b[0;31m         out = self.llm_client.complete(\n\u001b[0m\u001b[1;32m     65\u001b[0m             \u001b[0mmessages\u001b[0m\u001b[0;34m=\u001b[0m\u001b[0mmessages\u001b[0m\u001b[0;34m,\u001b[0m\u001b[0;34m\u001b[0m\u001b[0;34m\u001b[0m\u001b[0m\n\u001b[1;32m     66\u001b[0m             \u001b[0mtemperature\u001b[0m\u001b[0;34m=\u001b[0m\u001b[0mself\u001b[0m\u001b[0;34m.\u001b[0m\u001b[0mllm_temperature\u001b[0m\u001b[0;34m,\u001b[0m\u001b[0;34m\u001b[0m\u001b[0;34m\u001b[0m\u001b[0m\n",
            "\u001b[0;32m/usr/local/lib/python3.11/dist-packages/giskard/llm/client/litellm.py\u001b[0m in \u001b[0;36mcomplete\u001b[0;34m(self, messages, temperature, max_tokens, caller_id, seed, format)\u001b[0m\n\u001b[1;32m    117\u001b[0m         \u001b[0mformat\u001b[0m\u001b[0;34m=\u001b[0m\u001b[0;32mNone\u001b[0m\u001b[0;34m,\u001b[0m\u001b[0;34m\u001b[0m\u001b[0;34m\u001b[0m\u001b[0m\n\u001b[1;32m    118\u001b[0m     ) -> ChatMessage:\n\u001b[0;32m--> 119\u001b[0;31m         completion = litellm.completion(\n\u001b[0m\u001b[1;32m    120\u001b[0m             \u001b[0mmodel\u001b[0m\u001b[0;34m=\u001b[0m\u001b[0mself\u001b[0m\u001b[0;34m.\u001b[0m\u001b[0mmodel\u001b[0m\u001b[0;34m,\u001b[0m\u001b[0;34m\u001b[0m\u001b[0;34m\u001b[0m\u001b[0m\n\u001b[1;32m    121\u001b[0m             \u001b[0mmessages\u001b[0m\u001b[0;34m=\u001b[0m\u001b[0;34m[\u001b[0m\u001b[0;34m{\u001b[0m\u001b[0;34m\"role\"\u001b[0m\u001b[0;34m:\u001b[0m \u001b[0mmessage\u001b[0m\u001b[0;34m.\u001b[0m\u001b[0mrole\u001b[0m\u001b[0;34m,\u001b[0m \u001b[0;34m\"content\"\u001b[0m\u001b[0;34m:\u001b[0m \u001b[0mmessage\u001b[0m\u001b[0;34m.\u001b[0m\u001b[0mcontent\u001b[0m\u001b[0;34m}\u001b[0m \u001b[0;32mfor\u001b[0m \u001b[0mmessage\u001b[0m \u001b[0;32min\u001b[0m \u001b[0mmessages\u001b[0m\u001b[0;34m]\u001b[0m\u001b[0;34m,\u001b[0m\u001b[0;34m\u001b[0m\u001b[0;34m\u001b[0m\u001b[0m\n",
            "\u001b[0;32m/usr/local/lib/python3.11/dist-packages/litellm/utils.py\u001b[0m in \u001b[0;36mwrapper\u001b[0;34m(*args, **kwargs)\u001b[0m\n\u001b[1;32m   1011\u001b[0m                     \u001b[0me\u001b[0m\u001b[0;34m,\u001b[0m \u001b[0mtraceback_exception\u001b[0m\u001b[0;34m,\u001b[0m \u001b[0mstart_time\u001b[0m\u001b[0;34m,\u001b[0m \u001b[0mend_time\u001b[0m\u001b[0;34m\u001b[0m\u001b[0;34m\u001b[0m\u001b[0m\n\u001b[1;32m   1012\u001b[0m                 )  # DO NOT MAKE THREADED - router retry fallback relies on this!\n\u001b[0;32m-> 1013\u001b[0;31m             \u001b[0;32mraise\u001b[0m \u001b[0me\u001b[0m\u001b[0;34m\u001b[0m\u001b[0;34m\u001b[0m\u001b[0m\n\u001b[0m\u001b[1;32m   1014\u001b[0m \u001b[0;34m\u001b[0m\u001b[0m\n\u001b[1;32m   1015\u001b[0m     \u001b[0;34m@\u001b[0m\u001b[0mwraps\u001b[0m\u001b[0;34m(\u001b[0m\u001b[0moriginal_function\u001b[0m\u001b[0;34m)\u001b[0m\u001b[0;34m\u001b[0m\u001b[0;34m\u001b[0m\u001b[0m\n",
            "\u001b[0;32m/usr/local/lib/python3.11/dist-packages/litellm/utils.py\u001b[0m in \u001b[0;36mwrapper\u001b[0;34m(*args, **kwargs)\u001b[0m\n\u001b[1;32m    901\u001b[0m                     \u001b[0mprint_verbose\u001b[0m\u001b[0;34m(\u001b[0m\u001b[0;34mf\"Error while checking max token limit: {str(e)}\"\u001b[0m\u001b[0;34m)\u001b[0m\u001b[0;34m\u001b[0m\u001b[0;34m\u001b[0m\u001b[0m\n\u001b[1;32m    902\u001b[0m             \u001b[0;31m# MODEL CALL\u001b[0m\u001b[0;34m\u001b[0m\u001b[0;34m\u001b[0m\u001b[0m\n\u001b[0;32m--> 903\u001b[0;31m             \u001b[0mresult\u001b[0m \u001b[0;34m=\u001b[0m \u001b[0moriginal_function\u001b[0m\u001b[0;34m(\u001b[0m\u001b[0;34m*\u001b[0m\u001b[0margs\u001b[0m\u001b[0;34m,\u001b[0m \u001b[0;34m**\u001b[0m\u001b[0mkwargs\u001b[0m\u001b[0;34m)\u001b[0m\u001b[0;34m\u001b[0m\u001b[0;34m\u001b[0m\u001b[0m\n\u001b[0m\u001b[1;32m    904\u001b[0m             \u001b[0mend_time\u001b[0m \u001b[0;34m=\u001b[0m \u001b[0mdatetime\u001b[0m\u001b[0;34m.\u001b[0m\u001b[0mdatetime\u001b[0m\u001b[0;34m.\u001b[0m\u001b[0mnow\u001b[0m\u001b[0;34m(\u001b[0m\u001b[0;34m)\u001b[0m\u001b[0;34m\u001b[0m\u001b[0;34m\u001b[0m\u001b[0m\n\u001b[1;32m    905\u001b[0m             \u001b[0;32mif\u001b[0m \u001b[0;34m\"stream\"\u001b[0m \u001b[0;32min\u001b[0m \u001b[0mkwargs\u001b[0m \u001b[0;32mand\u001b[0m \u001b[0mkwargs\u001b[0m\u001b[0;34m[\u001b[0m\u001b[0;34m\"stream\"\u001b[0m\u001b[0;34m]\u001b[0m \u001b[0;32mis\u001b[0m \u001b[0;32mTrue\u001b[0m\u001b[0;34m:\u001b[0m\u001b[0;34m\u001b[0m\u001b[0;34m\u001b[0m\u001b[0m\n",
            "\u001b[0;32m/usr/local/lib/python3.11/dist-packages/litellm/main.py\u001b[0m in \u001b[0;36mcompletion\u001b[0;34m(model, messages, timeout, temperature, top_p, n, stream, stream_options, stop, max_completion_tokens, max_tokens, modalities, audio, presence_penalty, frequency_penalty, logit_bias, user, response_format, seed, tools, tool_choice, logprobs, top_logprobs, parallel_tool_calls, deployment_id, extra_headers, functions, function_call, base_url, api_version, api_key, model_list, **kwargs)\u001b[0m\n\u001b[1;32m   3007\u001b[0m     \u001b[0;32mexcept\u001b[0m \u001b[0mException\u001b[0m \u001b[0;32mas\u001b[0m \u001b[0me\u001b[0m\u001b[0;34m:\u001b[0m\u001b[0;34m\u001b[0m\u001b[0;34m\u001b[0m\u001b[0m\n\u001b[1;32m   3008\u001b[0m         \u001b[0;31m## Map to OpenAI Exception\u001b[0m\u001b[0;34m\u001b[0m\u001b[0;34m\u001b[0m\u001b[0m\n\u001b[0;32m-> 3009\u001b[0;31m         raise exception_type(\n\u001b[0m\u001b[1;32m   3010\u001b[0m             \u001b[0mmodel\u001b[0m\u001b[0;34m=\u001b[0m\u001b[0mmodel\u001b[0m\u001b[0;34m,\u001b[0m\u001b[0;34m\u001b[0m\u001b[0;34m\u001b[0m\u001b[0m\n\u001b[1;32m   3011\u001b[0m             \u001b[0mcustom_llm_provider\u001b[0m\u001b[0;34m=\u001b[0m\u001b[0mcustom_llm_provider\u001b[0m\u001b[0;34m,\u001b[0m\u001b[0;34m\u001b[0m\u001b[0;34m\u001b[0m\u001b[0m\n",
            "\u001b[0;32m/usr/local/lib/python3.11/dist-packages/litellm/litellm_core_utils/exception_mapping_utils.py\u001b[0m in \u001b[0;36mexception_type\u001b[0;34m(model, original_exception, custom_llm_provider, completion_kwargs, extra_kwargs)\u001b[0m\n\u001b[1;32m   2114\u001b[0m         \u001b[0;32mif\u001b[0m \u001b[0mexception_mapping_worked\u001b[0m\u001b[0;34m:\u001b[0m\u001b[0;34m\u001b[0m\u001b[0;34m\u001b[0m\u001b[0m\n\u001b[1;32m   2115\u001b[0m             \u001b[0msetattr\u001b[0m\u001b[0;34m(\u001b[0m\u001b[0me\u001b[0m\u001b[0;34m,\u001b[0m \u001b[0;34m\"litellm_response_headers\"\u001b[0m\u001b[0;34m,\u001b[0m \u001b[0mlitellm_response_headers\u001b[0m\u001b[0;34m)\u001b[0m\u001b[0;34m\u001b[0m\u001b[0;34m\u001b[0m\u001b[0m\n\u001b[0;32m-> 2116\u001b[0;31m             \u001b[0;32mraise\u001b[0m \u001b[0me\u001b[0m\u001b[0;34m\u001b[0m\u001b[0;34m\u001b[0m\u001b[0m\n\u001b[0m\u001b[1;32m   2117\u001b[0m         \u001b[0;32melse\u001b[0m\u001b[0;34m:\u001b[0m\u001b[0;34m\u001b[0m\u001b[0;34m\u001b[0m\u001b[0m\n\u001b[1;32m   2118\u001b[0m             \u001b[0;32mfor\u001b[0m \u001b[0merror_type\u001b[0m \u001b[0;32min\u001b[0m \u001b[0mlitellm\u001b[0m\u001b[0;34m.\u001b[0m\u001b[0mLITELLM_EXCEPTION_TYPES\u001b[0m\u001b[0;34m:\u001b[0m\u001b[0;34m\u001b[0m\u001b[0;34m\u001b[0m\u001b[0m\n",
            "\u001b[0;32m/usr/local/lib/python3.11/dist-packages/litellm/litellm_core_utils/exception_mapping_utils.py\u001b[0m in \u001b[0;36mexception_type\u001b[0;34m(model, original_exception, custom_llm_provider, completion_kwargs, extra_kwargs)\u001b[0m\n\u001b[1;32m    308\u001b[0m                 ):\n\u001b[1;32m    309\u001b[0m                     \u001b[0mexception_mapping_worked\u001b[0m \u001b[0;34m=\u001b[0m \u001b[0;32mTrue\u001b[0m\u001b[0;34m\u001b[0m\u001b[0;34m\u001b[0m\u001b[0m\n\u001b[0;32m--> 310\u001b[0;31m                     raise AuthenticationError(\n\u001b[0m\u001b[1;32m    311\u001b[0m                         \u001b[0mmessage\u001b[0m\u001b[0;34m=\u001b[0m\u001b[0;34mf\"AuthenticationError: {exception_provider} - {message}\"\u001b[0m\u001b[0;34m,\u001b[0m\u001b[0;34m\u001b[0m\u001b[0;34m\u001b[0m\u001b[0m\n\u001b[1;32m    312\u001b[0m                         \u001b[0mllm_provider\u001b[0m\u001b[0;34m=\u001b[0m\u001b[0mcustom_llm_provider\u001b[0m\u001b[0;34m,\u001b[0m\u001b[0;34m\u001b[0m\u001b[0;34m\u001b[0m\u001b[0m\n",
            "\u001b[0;31mAuthenticationError\u001b[0m: litellm.AuthenticationError: AuthenticationError: GroqException - The api_key client option must be set either by passing api_key to the client or by setting the GROQ_API_KEY environment variable"
          ]
        }
      ]
    },
    {
      "cell_type": "code",
      "source": [],
      "metadata": {
        "id": "g7xxfb7110_N"
      },
      "execution_count": null,
      "outputs": []
    },
    {
      "cell_type": "code",
      "source": [
        "results = scan(giskard_model)"
      ],
      "metadata": {
        "colab": {
          "base_uri": "https://localhost:8080/",
          "height": 658
        },
        "id": "OhCp1PQdq9UV",
        "outputId": "75bccff3-c1c2-4211-8173-e51610b2b6ca"
      },
      "execution_count": null,
      "outputs": [
        {
          "output_type": "stream",
          "name": "stderr",
          "text": [
            "INFO:httpx:HTTP Request: GET https://raw.githubusercontent.com/BerriAI/litellm/main/model_prices_and_context_window.json \"HTTP/1.1 200 OK\"\n",
            "INFO:LiteLLM:\n",
            "LiteLLM completion() model= gpt-4o; provider = openai\n"
          ]
        },
        {
          "output_type": "stream",
          "name": "stdout",
          "text": [
            "\n",
            "\u001b[1;31mGive Feedback / Get Help: https://github.com/BerriAI/litellm/issues/new\u001b[0m\n",
            "LiteLLM.Info: If you need to debug this error, use `litellm.set_verbose=True'.\n",
            "\n"
          ]
        },
        {
          "output_type": "error",
          "ename": "AuthenticationError",
          "evalue": "litellm.AuthenticationError: AuthenticationError: OpenAIException - The api_key client option must be set either by passing api_key to the client or by setting the OPENAI_API_KEY environment variable",
          "traceback": [
            "\u001b[0;31m---------------------------------------------------------------------------\u001b[0m",
            "\u001b[0;31mOpenAIError\u001b[0m                               Traceback (most recent call last)",
            "\u001b[0;32m/usr/local/lib/python3.11/dist-packages/litellm/llms/OpenAI/openai.py\u001b[0m in \u001b[0;36mcompletion\u001b[0;34m(self, model_response, timeout, optional_params, logging_obj, model, messages, print_verbose, api_key, api_base, acompletion, litellm_params, logger_fn, headers, custom_prompt_dict, client, organization, custom_llm_provider, drop_params)\u001b[0m\n\u001b[1;32m    853\u001b[0m                     \u001b[0;32melse\u001b[0m\u001b[0;34m:\u001b[0m\u001b[0;34m\u001b[0m\u001b[0;34m\u001b[0m\u001b[0m\n\u001b[0;32m--> 854\u001b[0;31m                         \u001b[0;32mraise\u001b[0m \u001b[0me\u001b[0m\u001b[0;34m\u001b[0m\u001b[0;34m\u001b[0m\u001b[0m\n\u001b[0m\u001b[1;32m    855\u001b[0m         \u001b[0;32mexcept\u001b[0m \u001b[0mOpenAIError\u001b[0m \u001b[0;32mas\u001b[0m \u001b[0me\u001b[0m\u001b[0;34m:\u001b[0m\u001b[0;34m\u001b[0m\u001b[0;34m\u001b[0m\u001b[0m\n",
            "\u001b[0;32m/usr/local/lib/python3.11/dist-packages/litellm/llms/OpenAI/openai.py\u001b[0m in \u001b[0;36mcompletion\u001b[0;34m(self, model_response, timeout, optional_params, logging_obj, model, messages, print_verbose, api_key, api_base, acompletion, litellm_params, logger_fn, headers, custom_prompt_dict, client, organization, custom_llm_provider, drop_params)\u001b[0m\n\u001b[1;32m    766\u001b[0m \u001b[0;34m\u001b[0m\u001b[0m\n\u001b[0;32m--> 767\u001b[0;31m                         openai_client: OpenAI = self._get_openai_client(  # type: ignore\n\u001b[0m\u001b[1;32m    768\u001b[0m                             \u001b[0mis_async\u001b[0m\u001b[0;34m=\u001b[0m\u001b[0;32mFalse\u001b[0m\u001b[0;34m,\u001b[0m\u001b[0;34m\u001b[0m\u001b[0;34m\u001b[0m\u001b[0m\n",
            "\u001b[0;32m/usr/local/lib/python3.11/dist-packages/litellm/llms/OpenAI/openai.py\u001b[0m in \u001b[0;36m_get_openai_client\u001b[0;34m(self, is_async, api_key, api_base, timeout, max_retries, organization, client)\u001b[0m\n\u001b[1;32m    574\u001b[0m             \u001b[0;32melse\u001b[0m\u001b[0;34m:\u001b[0m\u001b[0;34m\u001b[0m\u001b[0;34m\u001b[0m\u001b[0m\n\u001b[0;32m--> 575\u001b[0;31m                 _new_client = OpenAI(\n\u001b[0m\u001b[1;32m    576\u001b[0m                     \u001b[0mapi_key\u001b[0m\u001b[0;34m=\u001b[0m\u001b[0mapi_key\u001b[0m\u001b[0;34m,\u001b[0m\u001b[0;34m\u001b[0m\u001b[0;34m\u001b[0m\u001b[0m\n",
            "\u001b[0;32m/usr/local/lib/python3.11/dist-packages/openai/_client.py\u001b[0m in \u001b[0;36m__init__\u001b[0;34m(self, api_key, organization, project, base_url, websocket_base_url, timeout, max_retries, default_headers, default_query, http_client, _strict_response_validation)\u001b[0m\n\u001b[1;32m    109\u001b[0m         \u001b[0;32mif\u001b[0m \u001b[0mapi_key\u001b[0m \u001b[0;32mis\u001b[0m \u001b[0;32mNone\u001b[0m\u001b[0;34m:\u001b[0m\u001b[0;34m\u001b[0m\u001b[0;34m\u001b[0m\u001b[0m\n\u001b[0;32m--> 110\u001b[0;31m             raise OpenAIError(\n\u001b[0m\u001b[1;32m    111\u001b[0m                 \u001b[0;34m\"The api_key client option must be set either by passing api_key to the client or by setting the OPENAI_API_KEY environment variable\"\u001b[0m\u001b[0;34m\u001b[0m\u001b[0;34m\u001b[0m\u001b[0m\n",
            "\u001b[0;31mOpenAIError\u001b[0m: The api_key client option must be set either by passing api_key to the client or by setting the OPENAI_API_KEY environment variable",
            "\nDuring handling of the above exception, another exception occurred:\n",
            "\u001b[0;31mOpenAIError\u001b[0m                               Traceback (most recent call last)",
            "\u001b[0;32m/usr/local/lib/python3.11/dist-packages/litellm/main.py\u001b[0m in \u001b[0;36mcompletion\u001b[0;34m(model, messages, timeout, temperature, top_p, n, stream, stream_options, stop, max_completion_tokens, max_tokens, modalities, audio, presence_penalty, frequency_penalty, logit_bias, user, response_format, seed, tools, tool_choice, logprobs, top_logprobs, parallel_tool_calls, deployment_id, extra_headers, functions, function_call, base_url, api_version, api_key, model_list, **kwargs)\u001b[0m\n\u001b[1;32m   1596\u001b[0m                 )\n\u001b[0;32m-> 1597\u001b[0;31m                 \u001b[0;32mraise\u001b[0m \u001b[0me\u001b[0m\u001b[0;34m\u001b[0m\u001b[0;34m\u001b[0m\u001b[0m\n\u001b[0m\u001b[1;32m   1598\u001b[0m \u001b[0;34m\u001b[0m\u001b[0m\n",
            "\u001b[0;32m/usr/local/lib/python3.11/dist-packages/litellm/main.py\u001b[0m in \u001b[0;36mcompletion\u001b[0;34m(model, messages, timeout, temperature, top_p, n, stream, stream_options, stop, max_completion_tokens, max_tokens, modalities, audio, presence_penalty, frequency_penalty, logit_bias, user, response_format, seed, tools, tool_choice, logprobs, top_logprobs, parallel_tool_calls, deployment_id, extra_headers, functions, function_call, base_url, api_version, api_key, model_list, **kwargs)\u001b[0m\n\u001b[1;32m   1569\u001b[0m                 \u001b[0;32melse\u001b[0m\u001b[0;34m:\u001b[0m\u001b[0;34m\u001b[0m\u001b[0;34m\u001b[0m\u001b[0m\n\u001b[0;32m-> 1570\u001b[0;31m                     response = openai_chat_completions.completion(\n\u001b[0m\u001b[1;32m   1571\u001b[0m                         \u001b[0mmodel\u001b[0m\u001b[0;34m=\u001b[0m\u001b[0mmodel\u001b[0m\u001b[0;34m,\u001b[0m\u001b[0;34m\u001b[0m\u001b[0;34m\u001b[0m\u001b[0m\n",
            "\u001b[0;32m/usr/local/lib/python3.11/dist-packages/litellm/llms/OpenAI/openai.py\u001b[0m in \u001b[0;36mcompletion\u001b[0;34m(self, model_response, timeout, optional_params, logging_obj, model, messages, print_verbose, api_key, api_base, acompletion, litellm_params, logger_fn, headers, custom_prompt_dict, client, organization, custom_llm_provider, drop_params)\u001b[0m\n\u001b[1;32m    863\u001b[0m                 \u001b[0merror_headers\u001b[0m \u001b[0;34m=\u001b[0m \u001b[0mgetattr\u001b[0m\u001b[0;34m(\u001b[0m\u001b[0merror_response\u001b[0m\u001b[0;34m,\u001b[0m \u001b[0;34m\"headers\"\u001b[0m\u001b[0;34m,\u001b[0m \u001b[0;32mNone\u001b[0m\u001b[0;34m)\u001b[0m\u001b[0;34m\u001b[0m\u001b[0;34m\u001b[0m\u001b[0m\n\u001b[0;32m--> 864\u001b[0;31m             raise OpenAIError(\n\u001b[0m\u001b[1;32m    865\u001b[0m                 \u001b[0mstatus_code\u001b[0m\u001b[0;34m=\u001b[0m\u001b[0mstatus_code\u001b[0m\u001b[0;34m,\u001b[0m \u001b[0mmessage\u001b[0m\u001b[0;34m=\u001b[0m\u001b[0merror_text\u001b[0m\u001b[0;34m,\u001b[0m \u001b[0mheaders\u001b[0m\u001b[0;34m=\u001b[0m\u001b[0merror_headers\u001b[0m\u001b[0;34m\u001b[0m\u001b[0;34m\u001b[0m\u001b[0m\n",
            "\u001b[0;31mOpenAIError\u001b[0m: The api_key client option must be set either by passing api_key to the client or by setting the OPENAI_API_KEY environment variable",
            "\nDuring handling of the above exception, another exception occurred:\n",
            "\u001b[0;31mAuthenticationError\u001b[0m                       Traceback (most recent call last)",
            "\u001b[0;32m<ipython-input-39-756902bfb4f8>\u001b[0m in \u001b[0;36m<cell line: 0>\u001b[0;34m()\u001b[0m\n\u001b[0;32m----> 1\u001b[0;31m \u001b[0mresults\u001b[0m \u001b[0;34m=\u001b[0m \u001b[0mscan\u001b[0m\u001b[0;34m(\u001b[0m\u001b[0mgiskard_model\u001b[0m\u001b[0;34m)\u001b[0m\u001b[0;34m\u001b[0m\u001b[0;34m\u001b[0m\u001b[0m\n\u001b[0m",
            "\u001b[0;32m/usr/local/lib/python3.11/dist-packages/giskard/scanner/__init__.py\u001b[0m in \u001b[0;36mscan\u001b[0;34m(model, dataset, features, params, only, verbose, raise_exceptions, max_issues_per_detector)\u001b[0m\n\u001b[1;32m     65\u001b[0m     \"\"\"\n\u001b[1;32m     66\u001b[0m     \u001b[0mscanner\u001b[0m \u001b[0;34m=\u001b[0m \u001b[0mScanner\u001b[0m\u001b[0;34m(\u001b[0m\u001b[0mparams\u001b[0m\u001b[0;34m,\u001b[0m \u001b[0monly\u001b[0m\u001b[0;34m=\u001b[0m\u001b[0monly\u001b[0m\u001b[0;34m)\u001b[0m\u001b[0;34m\u001b[0m\u001b[0;34m\u001b[0m\u001b[0m\n\u001b[0;32m---> 67\u001b[0;31m     return scanner.analyze(\n\u001b[0m\u001b[1;32m     68\u001b[0m         \u001b[0mmodel\u001b[0m\u001b[0;34m,\u001b[0m\u001b[0;34m\u001b[0m\u001b[0;34m\u001b[0m\u001b[0m\n\u001b[1;32m     69\u001b[0m         \u001b[0mdataset\u001b[0m\u001b[0;34m=\u001b[0m\u001b[0mdataset\u001b[0m\u001b[0;34m,\u001b[0m\u001b[0;34m\u001b[0m\u001b[0;34m\u001b[0m\u001b[0m\n",
            "\u001b[0;32m/usr/local/lib/python3.11/dist-packages/giskard/scanner/scanner.py\u001b[0m in \u001b[0;36manalyze\u001b[0;34m(self, model, dataset, features, verbose, raise_exceptions, max_issues_per_detector)\u001b[0m\n\u001b[1;32m     99\u001b[0m         \u001b[0;32mwith\u001b[0m \u001b[0mTemporaryRootLogLevel\u001b[0m\u001b[0;34m(\u001b[0m\u001b[0mlogging\u001b[0m\u001b[0;34m.\u001b[0m\u001b[0mINFO\u001b[0m \u001b[0;32mif\u001b[0m \u001b[0mverbose\u001b[0m \u001b[0;32melse\u001b[0m \u001b[0mlogging\u001b[0m\u001b[0;34m.\u001b[0m\u001b[0mNOTSET\u001b[0m\u001b[0;34m)\u001b[0m\u001b[0;34m:\u001b[0m\u001b[0;34m\u001b[0m\u001b[0;34m\u001b[0m\u001b[0m\n\u001b[1;32m    100\u001b[0m             \u001b[0;31m# Check that the model and dataset were appropriately wrapped with Giskard\u001b[0m\u001b[0;34m\u001b[0m\u001b[0;34m\u001b[0m\u001b[0m\n\u001b[0;32m--> 101\u001b[0;31m             \u001b[0mmodel\u001b[0m\u001b[0;34m,\u001b[0m \u001b[0mdataset\u001b[0m\u001b[0;34m,\u001b[0m \u001b[0mmodel_validation_time\u001b[0m \u001b[0;34m=\u001b[0m \u001b[0mself\u001b[0m\u001b[0;34m.\u001b[0m\u001b[0m_validate_model_and_dataset\u001b[0m\u001b[0;34m(\u001b[0m\u001b[0mmodel\u001b[0m\u001b[0;34m,\u001b[0m \u001b[0mdataset\u001b[0m\u001b[0;34m)\u001b[0m\u001b[0;34m\u001b[0m\u001b[0;34m\u001b[0m\u001b[0m\n\u001b[0m\u001b[1;32m    102\u001b[0m \u001b[0;34m\u001b[0m\u001b[0m\n\u001b[1;32m    103\u001b[0m             \u001b[0;31m# Check that provided features are valid\u001b[0m\u001b[0;34m\u001b[0m\u001b[0;34m\u001b[0m\u001b[0m\n",
            "\u001b[0;32m/usr/local/lib/python3.11/dist-packages/giskard/scanner/scanner.py\u001b[0m in \u001b[0;36m_validate_model_and_dataset\u001b[0;34m(self, model, dataset)\u001b[0m\n\u001b[1;32m    218\u001b[0m             )\n\u001b[1;32m    219\u001b[0m \u001b[0;34m\u001b[0m\u001b[0m\n\u001b[0;32m--> 220\u001b[0;31m         \u001b[0mmodel\u001b[0m\u001b[0;34m,\u001b[0m \u001b[0mdataset\u001b[0m \u001b[0;34m=\u001b[0m \u001b[0mself\u001b[0m\u001b[0;34m.\u001b[0m\u001b[0m_prepare_model_dataset\u001b[0m\u001b[0;34m(\u001b[0m\u001b[0mmodel\u001b[0m\u001b[0;34m,\u001b[0m \u001b[0mdataset\u001b[0m\u001b[0;34m)\u001b[0m\u001b[0;34m\u001b[0m\u001b[0;34m\u001b[0m\u001b[0m\n\u001b[0m\u001b[1;32m    221\u001b[0m \u001b[0;34m\u001b[0m\u001b[0m\n\u001b[1;32m    222\u001b[0m         \u001b[0;32mif\u001b[0m \u001b[0;32mnot\u001b[0m \u001b[0mmodel\u001b[0m\u001b[0;34m.\u001b[0m\u001b[0mis_text_generation\u001b[0m\u001b[0;34m:\u001b[0m\u001b[0;34m\u001b[0m\u001b[0;34m\u001b[0m\u001b[0m\n",
            "\u001b[0;32m/usr/local/lib/python3.11/dist-packages/giskard/scanner/scanner.py\u001b[0m in \u001b[0;36m_prepare_model_dataset\u001b[0;34m(self, model, dataset)\u001b[0m\n\u001b[1;32m    277\u001b[0m             \u001b[0mlogger\u001b[0m\u001b[0;34m.\u001b[0m\u001b[0mdebug\u001b[0m\u001b[0;34m(\u001b[0m\u001b[0;34m\"Automatically generating test dataset.\"\u001b[0m\u001b[0;34m)\u001b[0m\u001b[0;34m\u001b[0m\u001b[0;34m\u001b[0m\u001b[0m\n\u001b[1;32m    278\u001b[0m             \u001b[0;32mtry\u001b[0m\u001b[0;34m:\u001b[0m\u001b[0;34m\u001b[0m\u001b[0;34m\u001b[0m\u001b[0m\n\u001b[0;32m--> 279\u001b[0;31m                 \u001b[0;32mreturn\u001b[0m \u001b[0mmodel\u001b[0m\u001b[0;34m,\u001b[0m \u001b[0mgenerate_test_dataset\u001b[0m\u001b[0;34m(\u001b[0m\u001b[0mmodel\u001b[0m\u001b[0;34m)\u001b[0m\u001b[0;34m\u001b[0m\u001b[0;34m\u001b[0m\u001b[0m\n\u001b[0m\u001b[1;32m    280\u001b[0m             \u001b[0;32mexcept\u001b[0m \u001b[0mLLMGenerationError\u001b[0m\u001b[0;34m:\u001b[0m\u001b[0;34m\u001b[0m\u001b[0;34m\u001b[0m\u001b[0m\n\u001b[1;32m    281\u001b[0m                 warning(\n",
            "\u001b[0;32m/usr/local/lib/python3.11/dist-packages/giskard/llm/utils.py\u001b[0m in \u001b[0;36mgenerate_test_dataset\u001b[0;34m(model, num_samples, temperature, column_types, llm_seed)\u001b[0m\n\u001b[1;32m     43\u001b[0m     \u001b[0mgenerator\u001b[0m \u001b[0;34m=\u001b[0m \u001b[0mSimpleDataGenerator\u001b[0m\u001b[0;34m(\u001b[0m\u001b[0mllm_temperature\u001b[0m\u001b[0;34m=\u001b[0m\u001b[0mtemperature\u001b[0m\u001b[0;34m,\u001b[0m \u001b[0mllm_seed\u001b[0m\u001b[0;34m=\u001b[0m\u001b[0mllm_seed\u001b[0m\u001b[0;34m)\u001b[0m\u001b[0;34m\u001b[0m\u001b[0;34m\u001b[0m\u001b[0m\n\u001b[1;32m     44\u001b[0m \u001b[0;34m\u001b[0m\u001b[0m\n\u001b[0;32m---> 45\u001b[0;31m     \u001b[0;32mreturn\u001b[0m \u001b[0mgenerator\u001b[0m\u001b[0;34m.\u001b[0m\u001b[0mgenerate_dataset\u001b[0m\u001b[0;34m(\u001b[0m\u001b[0mmodel\u001b[0m\u001b[0;34m,\u001b[0m \u001b[0mnum_samples\u001b[0m\u001b[0;34m,\u001b[0m \u001b[0mcolumn_types\u001b[0m\u001b[0;34m)\u001b[0m\u001b[0;34m\u001b[0m\u001b[0;34m\u001b[0m\u001b[0m\n\u001b[0m\u001b[1;32m     46\u001b[0m \u001b[0;34m\u001b[0m\u001b[0m\n\u001b[1;32m     47\u001b[0m \u001b[0;34m\u001b[0m\u001b[0m\n",
            "\u001b[0;32m/usr/local/lib/python3.11/dist-packages/giskard/llm/generators/base.py\u001b[0m in \u001b[0;36mgenerate_dataset\u001b[0;34m(self, model, num_samples, column_types)\u001b[0m\n\u001b[1;32m     62\u001b[0m         \u001b[0mmessages\u001b[0m \u001b[0;34m=\u001b[0m \u001b[0mself\u001b[0m\u001b[0;34m.\u001b[0m\u001b[0m_format_messages\u001b[0m\u001b[0;34m(\u001b[0m\u001b[0mmodel\u001b[0m\u001b[0;34m,\u001b[0m \u001b[0mnum_samples\u001b[0m\u001b[0;34m,\u001b[0m \u001b[0mcolumn_types\u001b[0m\u001b[0;34m)\u001b[0m\u001b[0;34m\u001b[0m\u001b[0;34m\u001b[0m\u001b[0m\n\u001b[1;32m     63\u001b[0m \u001b[0;34m\u001b[0m\u001b[0m\n\u001b[0;32m---> 64\u001b[0;31m         out = self.llm_client.complete(\n\u001b[0m\u001b[1;32m     65\u001b[0m             \u001b[0mmessages\u001b[0m\u001b[0;34m=\u001b[0m\u001b[0mmessages\u001b[0m\u001b[0;34m,\u001b[0m\u001b[0;34m\u001b[0m\u001b[0;34m\u001b[0m\u001b[0m\n\u001b[1;32m     66\u001b[0m             \u001b[0mtemperature\u001b[0m\u001b[0;34m=\u001b[0m\u001b[0mself\u001b[0m\u001b[0;34m.\u001b[0m\u001b[0mllm_temperature\u001b[0m\u001b[0;34m,\u001b[0m\u001b[0;34m\u001b[0m\u001b[0;34m\u001b[0m\u001b[0m\n",
            "\u001b[0;32m/usr/local/lib/python3.11/dist-packages/giskard/llm/client/litellm.py\u001b[0m in \u001b[0;36mcomplete\u001b[0;34m(self, messages, temperature, max_tokens, caller_id, seed, format)\u001b[0m\n\u001b[1;32m    117\u001b[0m         \u001b[0mformat\u001b[0m\u001b[0;34m=\u001b[0m\u001b[0;32mNone\u001b[0m\u001b[0;34m,\u001b[0m\u001b[0;34m\u001b[0m\u001b[0;34m\u001b[0m\u001b[0m\n\u001b[1;32m    118\u001b[0m     ) -> ChatMessage:\n\u001b[0;32m--> 119\u001b[0;31m         completion = litellm.completion(\n\u001b[0m\u001b[1;32m    120\u001b[0m             \u001b[0mmodel\u001b[0m\u001b[0;34m=\u001b[0m\u001b[0mself\u001b[0m\u001b[0;34m.\u001b[0m\u001b[0mmodel\u001b[0m\u001b[0;34m,\u001b[0m\u001b[0;34m\u001b[0m\u001b[0;34m\u001b[0m\u001b[0m\n\u001b[1;32m    121\u001b[0m             \u001b[0mmessages\u001b[0m\u001b[0;34m=\u001b[0m\u001b[0;34m[\u001b[0m\u001b[0;34m{\u001b[0m\u001b[0;34m\"role\"\u001b[0m\u001b[0;34m:\u001b[0m \u001b[0mmessage\u001b[0m\u001b[0;34m.\u001b[0m\u001b[0mrole\u001b[0m\u001b[0;34m,\u001b[0m \u001b[0;34m\"content\"\u001b[0m\u001b[0;34m:\u001b[0m \u001b[0mmessage\u001b[0m\u001b[0;34m.\u001b[0m\u001b[0mcontent\u001b[0m\u001b[0;34m}\u001b[0m \u001b[0;32mfor\u001b[0m \u001b[0mmessage\u001b[0m \u001b[0;32min\u001b[0m \u001b[0mmessages\u001b[0m\u001b[0;34m]\u001b[0m\u001b[0;34m,\u001b[0m\u001b[0;34m\u001b[0m\u001b[0;34m\u001b[0m\u001b[0m\n",
            "\u001b[0;32m/usr/local/lib/python3.11/dist-packages/litellm/utils.py\u001b[0m in \u001b[0;36mwrapper\u001b[0;34m(*args, **kwargs)\u001b[0m\n\u001b[1;32m   1011\u001b[0m                     \u001b[0me\u001b[0m\u001b[0;34m,\u001b[0m \u001b[0mtraceback_exception\u001b[0m\u001b[0;34m,\u001b[0m \u001b[0mstart_time\u001b[0m\u001b[0;34m,\u001b[0m \u001b[0mend_time\u001b[0m\u001b[0;34m\u001b[0m\u001b[0;34m\u001b[0m\u001b[0m\n\u001b[1;32m   1012\u001b[0m                 )  # DO NOT MAKE THREADED - router retry fallback relies on this!\n\u001b[0;32m-> 1013\u001b[0;31m             \u001b[0;32mraise\u001b[0m \u001b[0me\u001b[0m\u001b[0;34m\u001b[0m\u001b[0;34m\u001b[0m\u001b[0m\n\u001b[0m\u001b[1;32m   1014\u001b[0m \u001b[0;34m\u001b[0m\u001b[0m\n\u001b[1;32m   1015\u001b[0m     \u001b[0;34m@\u001b[0m\u001b[0mwraps\u001b[0m\u001b[0;34m(\u001b[0m\u001b[0moriginal_function\u001b[0m\u001b[0;34m)\u001b[0m\u001b[0;34m\u001b[0m\u001b[0;34m\u001b[0m\u001b[0m\n",
            "\u001b[0;32m/usr/local/lib/python3.11/dist-packages/litellm/utils.py\u001b[0m in \u001b[0;36mwrapper\u001b[0;34m(*args, **kwargs)\u001b[0m\n\u001b[1;32m    901\u001b[0m                     \u001b[0mprint_verbose\u001b[0m\u001b[0;34m(\u001b[0m\u001b[0;34mf\"Error while checking max token limit: {str(e)}\"\u001b[0m\u001b[0;34m)\u001b[0m\u001b[0;34m\u001b[0m\u001b[0;34m\u001b[0m\u001b[0m\n\u001b[1;32m    902\u001b[0m             \u001b[0;31m# MODEL CALL\u001b[0m\u001b[0;34m\u001b[0m\u001b[0;34m\u001b[0m\u001b[0m\n\u001b[0;32m--> 903\u001b[0;31m             \u001b[0mresult\u001b[0m \u001b[0;34m=\u001b[0m \u001b[0moriginal_function\u001b[0m\u001b[0;34m(\u001b[0m\u001b[0;34m*\u001b[0m\u001b[0margs\u001b[0m\u001b[0;34m,\u001b[0m \u001b[0;34m**\u001b[0m\u001b[0mkwargs\u001b[0m\u001b[0;34m)\u001b[0m\u001b[0;34m\u001b[0m\u001b[0;34m\u001b[0m\u001b[0m\n\u001b[0m\u001b[1;32m    904\u001b[0m             \u001b[0mend_time\u001b[0m \u001b[0;34m=\u001b[0m \u001b[0mdatetime\u001b[0m\u001b[0;34m.\u001b[0m\u001b[0mdatetime\u001b[0m\u001b[0;34m.\u001b[0m\u001b[0mnow\u001b[0m\u001b[0;34m(\u001b[0m\u001b[0;34m)\u001b[0m\u001b[0;34m\u001b[0m\u001b[0;34m\u001b[0m\u001b[0m\n\u001b[1;32m    905\u001b[0m             \u001b[0;32mif\u001b[0m \u001b[0;34m\"stream\"\u001b[0m \u001b[0;32min\u001b[0m \u001b[0mkwargs\u001b[0m \u001b[0;32mand\u001b[0m \u001b[0mkwargs\u001b[0m\u001b[0;34m[\u001b[0m\u001b[0;34m\"stream\"\u001b[0m\u001b[0;34m]\u001b[0m \u001b[0;32mis\u001b[0m \u001b[0;32mTrue\u001b[0m\u001b[0;34m:\u001b[0m\u001b[0;34m\u001b[0m\u001b[0;34m\u001b[0m\u001b[0m\n",
            "\u001b[0;32m/usr/local/lib/python3.11/dist-packages/litellm/main.py\u001b[0m in \u001b[0;36mcompletion\u001b[0;34m(model, messages, timeout, temperature, top_p, n, stream, stream_options, stop, max_completion_tokens, max_tokens, modalities, audio, presence_penalty, frequency_penalty, logit_bias, user, response_format, seed, tools, tool_choice, logprobs, top_logprobs, parallel_tool_calls, deployment_id, extra_headers, functions, function_call, base_url, api_version, api_key, model_list, **kwargs)\u001b[0m\n\u001b[1;32m   3007\u001b[0m     \u001b[0;32mexcept\u001b[0m \u001b[0mException\u001b[0m \u001b[0;32mas\u001b[0m \u001b[0me\u001b[0m\u001b[0;34m:\u001b[0m\u001b[0;34m\u001b[0m\u001b[0;34m\u001b[0m\u001b[0m\n\u001b[1;32m   3008\u001b[0m         \u001b[0;31m## Map to OpenAI Exception\u001b[0m\u001b[0;34m\u001b[0m\u001b[0;34m\u001b[0m\u001b[0m\n\u001b[0;32m-> 3009\u001b[0;31m         raise exception_type(\n\u001b[0m\u001b[1;32m   3010\u001b[0m             \u001b[0mmodel\u001b[0m\u001b[0;34m=\u001b[0m\u001b[0mmodel\u001b[0m\u001b[0;34m,\u001b[0m\u001b[0;34m\u001b[0m\u001b[0;34m\u001b[0m\u001b[0m\n\u001b[1;32m   3011\u001b[0m             \u001b[0mcustom_llm_provider\u001b[0m\u001b[0;34m=\u001b[0m\u001b[0mcustom_llm_provider\u001b[0m\u001b[0;34m,\u001b[0m\u001b[0;34m\u001b[0m\u001b[0;34m\u001b[0m\u001b[0m\n",
            "\u001b[0;32m/usr/local/lib/python3.11/dist-packages/litellm/litellm_core_utils/exception_mapping_utils.py\u001b[0m in \u001b[0;36mexception_type\u001b[0;34m(model, original_exception, custom_llm_provider, completion_kwargs, extra_kwargs)\u001b[0m\n\u001b[1;32m   2114\u001b[0m         \u001b[0;32mif\u001b[0m \u001b[0mexception_mapping_worked\u001b[0m\u001b[0;34m:\u001b[0m\u001b[0;34m\u001b[0m\u001b[0;34m\u001b[0m\u001b[0m\n\u001b[1;32m   2115\u001b[0m             \u001b[0msetattr\u001b[0m\u001b[0;34m(\u001b[0m\u001b[0me\u001b[0m\u001b[0;34m,\u001b[0m \u001b[0;34m\"litellm_response_headers\"\u001b[0m\u001b[0;34m,\u001b[0m \u001b[0mlitellm_response_headers\u001b[0m\u001b[0;34m)\u001b[0m\u001b[0;34m\u001b[0m\u001b[0;34m\u001b[0m\u001b[0m\n\u001b[0;32m-> 2116\u001b[0;31m             \u001b[0;32mraise\u001b[0m \u001b[0me\u001b[0m\u001b[0;34m\u001b[0m\u001b[0;34m\u001b[0m\u001b[0m\n\u001b[0m\u001b[1;32m   2117\u001b[0m         \u001b[0;32melse\u001b[0m\u001b[0;34m:\u001b[0m\u001b[0;34m\u001b[0m\u001b[0;34m\u001b[0m\u001b[0m\n\u001b[1;32m   2118\u001b[0m             \u001b[0;32mfor\u001b[0m \u001b[0merror_type\u001b[0m \u001b[0;32min\u001b[0m \u001b[0mlitellm\u001b[0m\u001b[0;34m.\u001b[0m\u001b[0mLITELLM_EXCEPTION_TYPES\u001b[0m\u001b[0;34m:\u001b[0m\u001b[0;34m\u001b[0m\u001b[0;34m\u001b[0m\u001b[0m\n",
            "\u001b[0;32m/usr/local/lib/python3.11/dist-packages/litellm/litellm_core_utils/exception_mapping_utils.py\u001b[0m in \u001b[0;36mexception_type\u001b[0;34m(model, original_exception, custom_llm_provider, completion_kwargs, extra_kwargs)\u001b[0m\n\u001b[1;32m    308\u001b[0m                 ):\n\u001b[1;32m    309\u001b[0m                     \u001b[0mexception_mapping_worked\u001b[0m \u001b[0;34m=\u001b[0m \u001b[0;32mTrue\u001b[0m\u001b[0;34m\u001b[0m\u001b[0;34m\u001b[0m\u001b[0m\n\u001b[0;32m--> 310\u001b[0;31m                     raise AuthenticationError(\n\u001b[0m\u001b[1;32m    311\u001b[0m                         \u001b[0mmessage\u001b[0m\u001b[0;34m=\u001b[0m\u001b[0;34mf\"AuthenticationError: {exception_provider} - {message}\"\u001b[0m\u001b[0;34m,\u001b[0m\u001b[0;34m\u001b[0m\u001b[0;34m\u001b[0m\u001b[0m\n\u001b[1;32m    312\u001b[0m                         \u001b[0mllm_provider\u001b[0m\u001b[0;34m=\u001b[0m\u001b[0mcustom_llm_provider\u001b[0m\u001b[0;34m,\u001b[0m\u001b[0;34m\u001b[0m\u001b[0;34m\u001b[0m\u001b[0m\n",
            "\u001b[0;31mAuthenticationError\u001b[0m: litellm.AuthenticationError: AuthenticationError: OpenAIException - The api_key client option must be set either by passing api_key to the client or by setting the OPENAI_API_KEY environment variable"
          ]
        }
      ]
    },
    {
      "cell_type": "code",
      "source": [
        "display(results)"
      ],
      "metadata": {
        "colab": {
          "base_uri": "https://localhost:8080/",
          "height": 146
        },
        "id": "wNUyI4w5cpeE",
        "outputId": "4ddc2929-b6c7-4037-9786-b2f0ab061a13"
      },
      "execution_count": null,
      "outputs": [
        {
          "output_type": "error",
          "ename": "NameError",
          "evalue": "name 'results' is not defined",
          "traceback": [
            "\u001b[0;31m---------------------------------------------------------------------------\u001b[0m",
            "\u001b[0;31mNameError\u001b[0m                                 Traceback (most recent call last)",
            "\u001b[0;32m<ipython-input-41-cb5871756ab1>\u001b[0m in \u001b[0;36m<cell line: 0>\u001b[0;34m()\u001b[0m\n\u001b[0;32m----> 1\u001b[0;31m \u001b[0mdisplay\u001b[0m\u001b[0;34m(\u001b[0m\u001b[0mresults\u001b[0m\u001b[0;34m)\u001b[0m\u001b[0;34m\u001b[0m\u001b[0;34m\u001b[0m\u001b[0m\n\u001b[0m",
            "\u001b[0;31mNameError\u001b[0m: name 'results' is not defined"
          ]
        }
      ]
    },
    {
      "cell_type": "code",
      "source": [],
      "metadata": {
        "id": "N_HTnKVD0xwD"
      },
      "execution_count": null,
      "outputs": []
    }
  ]
}